{
  "nbformat": 4,
  "nbformat_minor": 0,
  "metadata": {
    "colab": {
      "name": "FinalProject.ipynb",
      "provenance": [],
      "collapsed_sections": [],
      "include_colab_link": true
    },
    "kernelspec": {
      "name": "python3",
      "display_name": "Python 3"
    }
  },
  "cells": [
    {
      "cell_type": "markdown",
      "metadata": {
        "id": "view-in-github",
        "colab_type": "text"
      },
      "source": [
        "<a href=\"https://colab.research.google.com/github/Hamza1122/Assignment_ML/blob/main/FinalProject.ipynb\" target=\"_parent\"><img src=\"https://colab.research.google.com/assets/colab-badge.svg\" alt=\"Open In Colab\"/></a>"
      ]
    },
    {
      "cell_type": "markdown",
      "metadata": {
        "id": "G4aaCzlwe7ce"
      },
      "source": [
        "**Importing relevant libraries**"
      ]
    },
    {
      "cell_type": "code",
      "metadata": {
        "id": "U6mI96lENy-p",
        "colab": {
          "base_uri": "https://localhost:8080/"
        },
        "outputId": "3d2775f3-cff1-487c-a518-bf4abacec9e4"
      },
      "source": [
        "import statsmodels.api as sm\n",
        "import pandas as pd  \n",
        "import numpy as np\n",
        "from patsy import dmatrices"
      ],
      "execution_count": 1,
      "outputs": [
        {
          "output_type": "stream",
          "text": [
            "/usr/local/lib/python3.6/dist-packages/statsmodels/tools/_testing.py:19: FutureWarning: pandas.util.testing is deprecated. Use the functions in the public API at pandas.testing instead.\n",
            "  import pandas.util.testing as tm\n"
          ],
          "name": "stderr"
        }
      ]
    },
    {
      "cell_type": "markdown",
      "metadata": {
        "id": "oDoS_Z6sfTAj"
      },
      "source": [
        "**Importing my data**"
      ]
    },
    {
      "cell_type": "code",
      "metadata": {
        "id": "fU0Q6C8AeULZ",
        "colab": {
          "base_uri": "https://localhost:8080/",
          "height": 351
        },
        "outputId": "95547839-6a42-46d9-f345-87f6aa471d28"
      },
      "source": [
        "# loading the training dataset  \n",
        "df = pd.read_csv('filtered.csv') \n",
        "df = df.replace({np.nan:-1})\n",
        "df.head()"
      ],
      "execution_count": 2,
      "outputs": [
        {
          "output_type": "execute_result",
          "data": {
            "text/html": [
              "<div>\n",
              "<style scoped>\n",
              "    .dataframe tbody tr th:only-of-type {\n",
              "        vertical-align: middle;\n",
              "    }\n",
              "\n",
              "    .dataframe tbody tr th {\n",
              "        vertical-align: top;\n",
              "    }\n",
              "\n",
              "    .dataframe thead th {\n",
              "        text-align: right;\n",
              "    }\n",
              "</style>\n",
              "<table border=\"1\" class=\"dataframe\">\n",
              "  <thead>\n",
              "    <tr style=\"text-align: right;\">\n",
              "      <th></th>\n",
              "      <th>Site</th>\n",
              "      <th>EXAMbySANE</th>\n",
              "      <th>YearKitCollected</th>\n",
              "      <th>KITbroughtTOcrimelab</th>\n",
              "      <th>KITlengthofSubmissionTime</th>\n",
              "      <th>Age</th>\n",
              "      <th>UnderAge18</th>\n",
              "      <th>Gender</th>\n",
              "      <th>ExamDeclined</th>\n",
              "      <th>Noninterview</th>\n",
              "      <th>Timebetweenassaultandexaminhours</th>\n",
              "      <th>Race</th>\n",
              "      <th>Raceother</th>\n",
              "      <th>PriorHxofSAover14</th>\n",
              "      <th>PriorHxofSAunder14</th>\n",
              "      <th>Student</th>\n",
              "      <th>SchoolName</th>\n",
              "      <th>Military</th>\n",
              "      <th>MilitaryBranchName</th>\n",
              "      <th>Pain</th>\n",
              "      <th>PainLevel</th>\n",
              "      <th>PainLocation1</th>\n",
              "      <th>PainLocation2</th>\n",
              "      <th>PainLocation3</th>\n",
              "      <th>PainLocation4</th>\n",
              "      <th>PainTreatment</th>\n",
              "      <th>PermanentAddress</th>\n",
              "      <th>AddressIfnotPermanent</th>\n",
              "      <th>CurrentPhysicalmedprob</th>\n",
              "      <th>Currentmedprobtext</th>\n",
              "      <th>MedProbChronic</th>\n",
              "      <th>MedProbInfection</th>\n",
              "      <th>MedProbBlood</th>\n",
              "      <th>MedProbCardiac</th>\n",
              "      <th>MedProbEar</th>\n",
              "      <th>MedProbEndocrine</th>\n",
              "      <th>MedProbEye</th>\n",
              "      <th>MedProbGI</th>\n",
              "      <th>MedProbGU</th>\n",
              "      <th>MedProbGYN</th>\n",
              "      <th>...</th>\n",
              "      <th>LGIglanspenis</th>\n",
              "      <th>LGIpenileshaft</th>\n",
              "      <th>LGImaleURETHRALmeatus</th>\n",
              "      <th>LGIscrotum</th>\n",
              "      <th>LGItestes</th>\n",
              "      <th>LGImaleanus</th>\n",
              "      <th>LGImalerectum</th>\n",
              "      <th>TGIlaceration</th>\n",
              "      <th>TGIecchymosis</th>\n",
              "      <th>TGIabrasion</th>\n",
              "      <th>TGIredness</th>\n",
              "      <th>TGIswelling</th>\n",
              "      <th>TGIbruise</th>\n",
              "      <th>TGIpetechiae</th>\n",
              "      <th>TGIincision</th>\n",
              "      <th>TGIavulsion</th>\n",
              "      <th>TGIdiscoloredmark</th>\n",
              "      <th>TGIpuncturewound</th>\n",
              "      <th>ToludineDYEuptake</th>\n",
              "      <th>HIVnPEP</th>\n",
              "      <th>Yscreen</th>\n",
              "      <th>NumberOFitemsTested</th>\n",
              "      <th>NumberItemsWITH3cutoff</th>\n",
              "      <th>ItemsAnalyzed1</th>\n",
              "      <th>ItemsAnalyzed2</th>\n",
              "      <th>ItemsAnalyzed3</th>\n",
              "      <th>ItemsAnalyzed4</th>\n",
              "      <th>ItemsAnalyzed5</th>\n",
              "      <th>ItemsAnalyzed6</th>\n",
              "      <th>ItemsAnalyzed7</th>\n",
              "      <th>ItemsAnalyzed8</th>\n",
              "      <th>ItemsAnalyzed9</th>\n",
              "      <th>ItemsAnalyzed10</th>\n",
              "      <th>TypesOFitemsTested</th>\n",
              "      <th>TimeBetweenCollectAndDNAext</th>\n",
              "      <th>TimeBetweenSubmissionANDtesting</th>\n",
              "      <th>NumberOfswabsDNAanalysis</th>\n",
              "      <th>SuspectStandardSubmitted</th>\n",
              "      <th>ConsensualPartnerStandardSubmitted</th>\n",
              "      <th>CODISNDISeligibleProfile</th>\n",
              "    </tr>\n",
              "  </thead>\n",
              "  <tbody>\n",
              "    <tr>\n",
              "      <th>0</th>\n",
              "      <td>1</td>\n",
              "      <td>1</td>\n",
              "      <td>2</td>\n",
              "      <td>1</td>\n",
              "      <td>2</td>\n",
              "      <td>20-24</td>\n",
              "      <td>0</td>\n",
              "      <td>1</td>\n",
              "      <td>0</td>\n",
              "      <td></td>\n",
              "      <td>0-5.9</td>\n",
              "      <td>1</td>\n",
              "      <td></td>\n",
              "      <td></td>\n",
              "      <td></td>\n",
              "      <td></td>\n",
              "      <td></td>\n",
              "      <td></td>\n",
              "      <td></td>\n",
              "      <td></td>\n",
              "      <td></td>\n",
              "      <td></td>\n",
              "      <td></td>\n",
              "      <td></td>\n",
              "      <td></td>\n",
              "      <td></td>\n",
              "      <td></td>\n",
              "      <td></td>\n",
              "      <td>1</td>\n",
              "      <td>Heartburn and pain in LLQ abdomen</td>\n",
              "      <td>1</td>\n",
              "      <td>0</td>\n",
              "      <td>0</td>\n",
              "      <td>0</td>\n",
              "      <td>0</td>\n",
              "      <td>0</td>\n",
              "      <td>0</td>\n",
              "      <td>1</td>\n",
              "      <td>0</td>\n",
              "      <td>0</td>\n",
              "      <td>...</td>\n",
              "      <td>3</td>\n",
              "      <td>3</td>\n",
              "      <td>3</td>\n",
              "      <td>3</td>\n",
              "      <td>3</td>\n",
              "      <td>3</td>\n",
              "      <td>3</td>\n",
              "      <td>1</td>\n",
              "      <td>0</td>\n",
              "      <td>1</td>\n",
              "      <td>1</td>\n",
              "      <td>1</td>\n",
              "      <td>0</td>\n",
              "      <td>0</td>\n",
              "      <td>0</td>\n",
              "      <td>0</td>\n",
              "      <td>0</td>\n",
              "      <td>0</td>\n",
              "      <td>1</td>\n",
              "      <td>0</td>\n",
              "      <td></td>\n",
              "      <td>11</td>\n",
              "      <td>2</td>\n",
              "      <td>1</td>\n",
              "      <td>2</td>\n",
              "      <td>3</td>\n",
              "      <td>4</td>\n",
              "      <td>6</td>\n",
              "      <td>8</td>\n",
              "      <td>11</td>\n",
              "      <td></td>\n",
              "      <td></td>\n",
              "      <td></td>\n",
              "      <td>3</td>\n",
              "      <td>12</td>\n",
              "      <td>5</td>\n",
              "      <td>9</td>\n",
              "      <td>1</td>\n",
              "      <td>0</td>\n",
              "      <td>1</td>\n",
              "    </tr>\n",
              "    <tr>\n",
              "      <th>1</th>\n",
              "      <td>4</td>\n",
              "      <td>1</td>\n",
              "      <td>6</td>\n",
              "      <td>1</td>\n",
              "      <td>1</td>\n",
              "      <td>14-17</td>\n",
              "      <td>1</td>\n",
              "      <td>1</td>\n",
              "      <td>0</td>\n",
              "      <td>0</td>\n",
              "      <td>12-23.9</td>\n",
              "      <td>1</td>\n",
              "      <td></td>\n",
              "      <td></td>\n",
              "      <td></td>\n",
              "      <td></td>\n",
              "      <td></td>\n",
              "      <td></td>\n",
              "      <td></td>\n",
              "      <td></td>\n",
              "      <td></td>\n",
              "      <td></td>\n",
              "      <td></td>\n",
              "      <td></td>\n",
              "      <td></td>\n",
              "      <td></td>\n",
              "      <td></td>\n",
              "      <td></td>\n",
              "      <td>0</td>\n",
              "      <td></td>\n",
              "      <td>0</td>\n",
              "      <td>0</td>\n",
              "      <td>0</td>\n",
              "      <td>0</td>\n",
              "      <td>0</td>\n",
              "      <td>0</td>\n",
              "      <td>0</td>\n",
              "      <td>0</td>\n",
              "      <td>0</td>\n",
              "      <td>0</td>\n",
              "      <td>...</td>\n",
              "      <td>3</td>\n",
              "      <td>3</td>\n",
              "      <td>3</td>\n",
              "      <td>3</td>\n",
              "      <td>3</td>\n",
              "      <td>3</td>\n",
              "      <td>3</td>\n",
              "      <td>0</td>\n",
              "      <td>0</td>\n",
              "      <td>0</td>\n",
              "      <td>0</td>\n",
              "      <td>0</td>\n",
              "      <td>0</td>\n",
              "      <td>0</td>\n",
              "      <td>0</td>\n",
              "      <td>0</td>\n",
              "      <td>0</td>\n",
              "      <td>0</td>\n",
              "      <td>0</td>\n",
              "      <td>0</td>\n",
              "      <td></td>\n",
              "      <td>17</td>\n",
              "      <td>2</td>\n",
              "      <td>1</td>\n",
              "      <td>2</td>\n",
              "      <td>3</td>\n",
              "      <td>5</td>\n",
              "      <td>8</td>\n",
              "      <td>9</td>\n",
              "      <td>10</td>\n",
              "      <td>11</td>\n",
              "      <td></td>\n",
              "      <td></td>\n",
              "      <td>5</td>\n",
              "      <td>9</td>\n",
              "      <td>8</td>\n",
              "      <td>7</td>\n",
              "      <td>1</td>\n",
              "      <td>0</td>\n",
              "      <td>1</td>\n",
              "    </tr>\n",
              "    <tr>\n",
              "      <th>2</th>\n",
              "      <td>1</td>\n",
              "      <td>1</td>\n",
              "      <td>8</td>\n",
              "      <td>1</td>\n",
              "      <td>1</td>\n",
              "      <td>30-39</td>\n",
              "      <td>0</td>\n",
              "      <td>1</td>\n",
              "      <td>0</td>\n",
              "      <td>0</td>\n",
              "      <td>0-5.9</td>\n",
              "      <td>3</td>\n",
              "      <td></td>\n",
              "      <td>0</td>\n",
              "      <td>0</td>\n",
              "      <td>0</td>\n",
              "      <td></td>\n",
              "      <td>0</td>\n",
              "      <td></td>\n",
              "      <td>1</td>\n",
              "      <td></td>\n",
              "      <td>1</td>\n",
              "      <td>2</td>\n",
              "      <td>5</td>\n",
              "      <td></td>\n",
              "      <td>1</td>\n",
              "      <td>1</td>\n",
              "      <td></td>\n",
              "      <td>1</td>\n",
              "      <td>pt has small uterus and never got her menstrua...</td>\n",
              "      <td>0</td>\n",
              "      <td>0</td>\n",
              "      <td>0</td>\n",
              "      <td>0</td>\n",
              "      <td>0</td>\n",
              "      <td>0</td>\n",
              "      <td>0</td>\n",
              "      <td>0</td>\n",
              "      <td>0</td>\n",
              "      <td>1</td>\n",
              "      <td>...</td>\n",
              "      <td>3</td>\n",
              "      <td>3</td>\n",
              "      <td>3</td>\n",
              "      <td>3</td>\n",
              "      <td>3</td>\n",
              "      <td>3</td>\n",
              "      <td>3</td>\n",
              "      <td>0</td>\n",
              "      <td>0</td>\n",
              "      <td>0</td>\n",
              "      <td>0</td>\n",
              "      <td>0</td>\n",
              "      <td>0</td>\n",
              "      <td>0</td>\n",
              "      <td>0</td>\n",
              "      <td>0</td>\n",
              "      <td>0</td>\n",
              "      <td>0</td>\n",
              "      <td>0</td>\n",
              "      <td>0</td>\n",
              "      <td></td>\n",
              "      <td>7</td>\n",
              "      <td>2</td>\n",
              "      <td>7</td>\n",
              "      <td>8</td>\n",
              "      <td>9</td>\n",
              "      <td>10</td>\n",
              "      <td></td>\n",
              "      <td></td>\n",
              "      <td></td>\n",
              "      <td></td>\n",
              "      <td></td>\n",
              "      <td></td>\n",
              "      <td>2</td>\n",
              "      <td>13</td>\n",
              "      <td>13</td>\n",
              "      <td>7</td>\n",
              "      <td>0</td>\n",
              "      <td>0</td>\n",
              "      <td>0</td>\n",
              "    </tr>\n",
              "    <tr>\n",
              "      <th>3</th>\n",
              "      <td>1</td>\n",
              "      <td>1</td>\n",
              "      <td>4</td>\n",
              "      <td>1</td>\n",
              "      <td>1</td>\n",
              "      <td>20-24</td>\n",
              "      <td>0</td>\n",
              "      <td>1</td>\n",
              "      <td>0</td>\n",
              "      <td>0</td>\n",
              "      <td>12-23.9</td>\n",
              "      <td>1</td>\n",
              "      <td></td>\n",
              "      <td>0</td>\n",
              "      <td>1</td>\n",
              "      <td></td>\n",
              "      <td></td>\n",
              "      <td></td>\n",
              "      <td></td>\n",
              "      <td></td>\n",
              "      <td></td>\n",
              "      <td></td>\n",
              "      <td></td>\n",
              "      <td></td>\n",
              "      <td></td>\n",
              "      <td></td>\n",
              "      <td></td>\n",
              "      <td></td>\n",
              "      <td>1</td>\n",
              "      <td>Anemia, Asthma</td>\n",
              "      <td>1</td>\n",
              "      <td>0</td>\n",
              "      <td>1</td>\n",
              "      <td>0</td>\n",
              "      <td>0</td>\n",
              "      <td>0</td>\n",
              "      <td>0</td>\n",
              "      <td>0</td>\n",
              "      <td>0</td>\n",
              "      <td>0</td>\n",
              "      <td>...</td>\n",
              "      <td>3</td>\n",
              "      <td>3</td>\n",
              "      <td>3</td>\n",
              "      <td>3</td>\n",
              "      <td>3</td>\n",
              "      <td>3</td>\n",
              "      <td>3</td>\n",
              "      <td>0</td>\n",
              "      <td>1</td>\n",
              "      <td>1</td>\n",
              "      <td>0</td>\n",
              "      <td>0</td>\n",
              "      <td>0</td>\n",
              "      <td>0</td>\n",
              "      <td>0</td>\n",
              "      <td>0</td>\n",
              "      <td>0</td>\n",
              "      <td>0</td>\n",
              "      <td>1</td>\n",
              "      <td>0</td>\n",
              "      <td></td>\n",
              "      <td>14</td>\n",
              "      <td>2</td>\n",
              "      <td>1</td>\n",
              "      <td>2</td>\n",
              "      <td>3</td>\n",
              "      <td>4</td>\n",
              "      <td>5</td>\n",
              "      <td>6</td>\n",
              "      <td>8</td>\n",
              "      <td>9</td>\n",
              "      <td>11</td>\n",
              "      <td>12</td>\n",
              "      <td>5</td>\n",
              "      <td>12</td>\n",
              "      <td>12</td>\n",
              "      <td>6</td>\n",
              "      <td>1</td>\n",
              "      <td>0</td>\n",
              "      <td>1</td>\n",
              "    </tr>\n",
              "    <tr>\n",
              "      <th>4</th>\n",
              "      <td>1</td>\n",
              "      <td>1</td>\n",
              "      <td>5</td>\n",
              "      <td>1</td>\n",
              "      <td>2</td>\n",
              "      <td>14-17</td>\n",
              "      <td>0</td>\n",
              "      <td>1</td>\n",
              "      <td>0</td>\n",
              "      <td>0</td>\n",
              "      <td>24-47.9</td>\n",
              "      <td>7</td>\n",
              "      <td></td>\n",
              "      <td>0</td>\n",
              "      <td>0</td>\n",
              "      <td></td>\n",
              "      <td></td>\n",
              "      <td></td>\n",
              "      <td></td>\n",
              "      <td></td>\n",
              "      <td></td>\n",
              "      <td></td>\n",
              "      <td></td>\n",
              "      <td></td>\n",
              "      <td></td>\n",
              "      <td></td>\n",
              "      <td></td>\n",
              "      <td></td>\n",
              "      <td>0</td>\n",
              "      <td></td>\n",
              "      <td>0</td>\n",
              "      <td>0</td>\n",
              "      <td>0</td>\n",
              "      <td>0</td>\n",
              "      <td>0</td>\n",
              "      <td>0</td>\n",
              "      <td>0</td>\n",
              "      <td>0</td>\n",
              "      <td>0</td>\n",
              "      <td>0</td>\n",
              "      <td>...</td>\n",
              "      <td>3</td>\n",
              "      <td>3</td>\n",
              "      <td>3</td>\n",
              "      <td>3</td>\n",
              "      <td>3</td>\n",
              "      <td>3</td>\n",
              "      <td>3</td>\n",
              "      <td>1</td>\n",
              "      <td>0</td>\n",
              "      <td>0</td>\n",
              "      <td>0</td>\n",
              "      <td>0</td>\n",
              "      <td>0</td>\n",
              "      <td>0</td>\n",
              "      <td>0</td>\n",
              "      <td>0</td>\n",
              "      <td>0</td>\n",
              "      <td>0</td>\n",
              "      <td>0</td>\n",
              "      <td>0</td>\n",
              "      <td></td>\n",
              "      <td>12</td>\n",
              "      <td>2</td>\n",
              "      <td>1</td>\n",
              "      <td>2</td>\n",
              "      <td>3</td>\n",
              "      <td>4</td>\n",
              "      <td>5</td>\n",
              "      <td>6</td>\n",
              "      <td>8</td>\n",
              "      <td>11</td>\n",
              "      <td></td>\n",
              "      <td></td>\n",
              "      <td>3</td>\n",
              "      <td>10</td>\n",
              "      <td>6</td>\n",
              "      <td>6</td>\n",
              "      <td>1</td>\n",
              "      <td>0</td>\n",
              "      <td>1</td>\n",
              "    </tr>\n",
              "  </tbody>\n",
              "</table>\n",
              "<p>5 rows × 254 columns</p>\n",
              "</div>"
            ],
            "text/plain": [
              "  Site  EXAMbySANE  ...  ConsensualPartnerStandardSubmitted  CODISNDISeligibleProfile\n",
              "0    1           1  ...                                   0                         1\n",
              "1    4           1  ...                                   0                         1\n",
              "2    1           1  ...                                   0                         0\n",
              "3    1           1  ...                                   0                         1\n",
              "4    1           1  ...                                   0                         1\n",
              "\n",
              "[5 rows x 254 columns]"
            ]
          },
          "metadata": {
            "tags": []
          },
          "execution_count": 2
        }
      ]
    },
    {
      "cell_type": "code",
      "metadata": {
        "id": "5a54ULQVm_-c",
        "colab": {
          "base_uri": "https://localhost:8080/"
        },
        "outputId": "18af79dd-0975-439b-b219-646326d530f5"
      },
      "source": [
        "for col in df.columns: \n",
        "    print(col)"
      ],
      "execution_count": 3,
      "outputs": [
        {
          "output_type": "stream",
          "text": [
            "Site\n",
            "EXAMbySANE\n",
            "YearKitCollected\n",
            "KITbroughtTOcrimelab\n",
            "KITlengthofSubmissionTime\n",
            "Age\n",
            "UnderAge18\n",
            "Gender\n",
            "ExamDeclined\n",
            "Noninterview\n",
            "Timebetweenassaultandexaminhours\n",
            "Race\n",
            "Raceother\n",
            "PriorHxofSAover14\n",
            "PriorHxofSAunder14\n",
            "Student\n",
            "SchoolName\n",
            "Military\n",
            "MilitaryBranchName\n",
            "Pain\n",
            "PainLevel\n",
            "PainLocation1\n",
            "PainLocation2\n",
            "PainLocation3\n",
            "PainLocation4\n",
            "PainTreatment\n",
            "PermanentAddress\n",
            "AddressIfnotPermanent\n",
            "CurrentPhysicalmedprob\n",
            "Currentmedprobtext\n",
            "MedProbChronic\n",
            "MedProbInfection\n",
            "MedProbBlood\n",
            "MedProbCardiac\n",
            "MedProbEar\n",
            "MedProbEndocrine\n",
            "MedProbEye\n",
            "MedProbGI\n",
            "MedProbGU\n",
            "MedProbGYN\n",
            "MedProbImmune\n",
            "MedProbMusculoskeletal\n",
            "MedProbNeurological\n",
            "MedProbOral\n",
            "MedProbRenal\n",
            "MedProbRespiratory\n",
            "MedProbSkin\n",
            "MedProbOther\n",
            "MedProbOtherText\n",
            "Medication\n",
            "Medicationtext\n",
            "PsychotropicMEDuse\n",
            "PsychotropicSTIMULANTuse\n",
            "PsychotropicANTIPSYCHOTICSatypical\n",
            "PsychotropicANTIPSYCHOTICStypical\n",
            "PsychotropicANTIANXIETY\n",
            "PsychotropicANTIDEPRESSANTS\n",
            "PsychotropicANTISEIZUREbipolar\n",
            "PsychotropicADDICTIONmeds\n",
            "PsychotropicSLEEPaid\n",
            "PsychotropicOTHER\n",
            "PolypharmacyPsychMeds\n",
            "ImmunizationstatusTETANUS\n",
            "ReceivedTetanus\n",
            "ImmunizationstatusHEP\n",
            "ReceivedHepB\n",
            "Sexualcontactwithin120hours\n",
            "Sexualcontactwithin120hoursTYPE\n",
            "Selfdisclosurementalillness\n",
            "SelfdisclosureMItype\n",
            "MIdepression\n",
            "MIanxiety\n",
            "MIPTSD\n",
            "MIpsychoticDisorders\n",
            "MIadhd\n",
            "MIpersonalitydisorder\n",
            "MIbipolar\n",
            "MIeatingdisorder\n",
            "MIdrugalcoholdisorders\n",
            "MIother\n",
            "SelfDiscolsureMentalillnessORuseofpsychotropics\n",
            "OnlineMeetingOFsuspect\n",
            "OnlineMeetingName\n",
            "Suspectrelationship\n",
            "SuspectrelationshipOTHER\n",
            "Locationofassault\n",
            "LocationofassaultOTHER\n",
            "Surfaceofassault\n",
            "PatientActionScratch\n",
            "PatientActionBite\n",
            "PatientActionHit\n",
            "PatientActionKick\n",
            "PatientActionOther\n",
            "PatientActionOtherTEXT\n",
            "Suspectrace\n",
            "SuspectraceOTHER\n",
            "SuspectactionVERBAL\n",
            "SuspectactionsGRABBEDHELD\n",
            "SuspectactionsPHYSICALBLOWS\n",
            "SuspectactionsSTRANGLEDCHOKED\n",
            "SuspectactionsWEAPON\n",
            "SuspectactionsRESTRAINTS\n",
            "SuspectactionsBURNED\n",
            "SuspectOTHERactions\n",
            "MultipleSuspects\n",
            "MulitipleSuspectNumber\n",
            "SuspectedDrugfacilitated\n",
            "Patientdruguse\n",
            "PatientETOHuse\n",
            "Suspectdruguse\n",
            "SuspectETOHuse\n",
            "PatientSuspectETOHordrug\n",
            "LossOFconsciousnessORawareness\n",
            "OneORmoreunknownanswer\n",
            "Unknownanswerto4ormorequestions\n",
            "UnknownanswertoALL\n",
            "NumberofUnknownresponses\n",
            "AsleepANDawakenedtoassault\n",
            "MemoryLoss\n",
            "LossOfconsciousness\n",
            "DecreasedAwareness\n",
            "TonicImmobility\n",
            "Detachment\n",
            "NOSApatientsVAGINApenis\n",
            "NOSApatientsVAGINAfingerhand\n",
            "NOSApatientsVAGINAmouth\n",
            "NOSApatientsVAGINAobject\n",
            "NOSApatientsVAGINAobjectdescription\n",
            "NOSApatientsANUSpenis\n",
            "NOSApatientsANUSfingerhand\n",
            "NOSApatientsANUSmouth\n",
            "NOSApatientsANUSobject\n",
            "NOSApatientsANUSobjectdescription\n",
            "NOSApatientsPENISgenitals\n",
            "NOSApatientsPENISfinger\n",
            "NOSApatientsPENISmouth\n",
            "NOSApatientsPENISobject\n",
            "NOSApatientsPENISobjectdescription\n",
            "NOSApatientsMOUTHpenis\n",
            "NOSApatientsMOUTHfinger\n",
            "NOSApatientsMOUTHmouth\n",
            "NOSApatientsMOUTHobject\n",
            "NOSApatientsMOUTHobjectdescription\n",
            "SUSPECTmouthcontactGENITALS\n",
            "SUSPECTmouthcontactBREASTS\n",
            "SUSPECTmouthcontactMOUTH\n",
            "SUSPECTmouthcontactOTHER\n",
            "SUSPECTmouthcontactOTHERsite\n",
            "HANDSofSuspectBreast\n",
            "HANDSofSuspectExtremities\n",
            "HANDSofSuspectOther\n",
            "NumberAssaultiveActs\n",
            "Ejaculation\n",
            "EjaculationSITE\n",
            "CONDOMuse\n",
            "LUBRICATIONuse\n",
            "LUBRICATIONtype\n",
            "SuspectWASHEDpatient\n",
            "SuspectINJUREDbypatient\n",
            "SuspectINJUREDbypatientexplanation\n",
            "PostassaultURINATED\n",
            "PostassaultDEFECATED\n",
            "PostassaultDOUCHED\n",
            "PostassaultVOMITED\n",
            "PostassaultGARGLED\n",
            "PostassaultBRUSHEDTEETH\n",
            "PostassaultATEdrank\n",
            "PostassaultBATHED\n",
            "PostassaultGENITALWIPE\n",
            "PostassaultCHANGEDCLOTHING\n",
            "PostassaultREMOVEDInserted\n",
            "PhysicalORmentalimpairment\n",
            "Impairmentdescription\n",
            "Physicalinjury\n",
            "Numberofphysicalinjuries\n",
            "LPIhead\n",
            "LPIneck\n",
            "LPIbreasts\n",
            "LPIchestback\n",
            "LPIabdomen\n",
            "LPIextremities\n",
            "TPIlaceration\n",
            "TPIecchymosis\n",
            "TPIabrasion\n",
            "TPIredness\n",
            "TPIswelling\n",
            "TPIbruise\n",
            "TPIpetechiae\n",
            "TPIincision\n",
            "TPIavulsion\n",
            "TPIdiscoloredmark\n",
            "TPIpuncturewound\n",
            "TPIfracture\n",
            "TPIbitemark\n",
            "TPIburn\n",
            "TPImissingorbrokenTEETH\n",
            "TPIconjunctivalhemorrhage\n",
            "Genitalinjury\n",
            "Numberofgentialinjuries\n",
            "LGIinnerthighs\n",
            "LGIclitoralhoodclitoris\n",
            "LGIlabiamajora\n",
            "LGIlabiaminora\n",
            "LGIperiurethraltissueURETHRA\n",
            "LGIperihymenaltissue\n",
            "LGIhymen\n",
            "LGIvagina\n",
            "LGIcervix\n",
            "LGIfossanavicularis\n",
            "LGIposteriorfourchette\n",
            "LGIperineum\n",
            "LGIanalrectal\n",
            "LGIbuttocks\n",
            "LGImalePerianalperineum\n",
            "LGIglanspenis\n",
            "LGIpenileshaft\n",
            "LGImaleURETHRALmeatus\n",
            "LGIscrotum\n",
            "LGItestes\n",
            "LGImaleanus\n",
            "LGImalerectum\n",
            "TGIlaceration\n",
            "TGIecchymosis\n",
            "TGIabrasion\n",
            "TGIredness\n",
            "TGIswelling\n",
            "TGIbruise\n",
            "TGIpetechiae\n",
            "TGIincision\n",
            "TGIavulsion\n",
            "TGIdiscoloredmark\n",
            "TGIpuncturewound\n",
            "ToludineDYEuptake\n",
            "HIVnPEP\n",
            "Yscreen\n",
            "NumberOFitemsTested\n",
            "NumberItemsWITH3cutoff\n",
            "ItemsAnalyzed1\n",
            "ItemsAnalyzed2\n",
            "ItemsAnalyzed3\n",
            "ItemsAnalyzed4\n",
            "ItemsAnalyzed5\n",
            "ItemsAnalyzed6\n",
            "ItemsAnalyzed7\n",
            "ItemsAnalyzed8\n",
            "ItemsAnalyzed9\n",
            "ItemsAnalyzed10\n",
            "TypesOFitemsTested\n",
            "TimeBetweenCollectAndDNAext\n",
            "TimeBetweenSubmissionANDtesting\n",
            "NumberOfswabsDNAanalysis\n",
            "SuspectStandardSubmitted\n",
            "ConsensualPartnerStandardSubmitted\n",
            "CODISNDISeligibleProfile\n"
          ],
          "name": "stdout"
        }
      ]
    },
    {
      "cell_type": "code",
      "metadata": {
        "id": "RSUtseWQs980",
        "colab": {
          "base_uri": "https://localhost:8080/",
          "height": 407
        },
        "outputId": "717eef3b-a686-4458-d7ef-441087dd2b2e"
      },
      "source": [
        "df[['CODISNDISeligibleProfile', 'Age']]"
      ],
      "execution_count": 4,
      "outputs": [
        {
          "output_type": "execute_result",
          "data": {
            "text/html": [
              "<div>\n",
              "<style scoped>\n",
              "    .dataframe tbody tr th:only-of-type {\n",
              "        vertical-align: middle;\n",
              "    }\n",
              "\n",
              "    .dataframe tbody tr th {\n",
              "        vertical-align: top;\n",
              "    }\n",
              "\n",
              "    .dataframe thead th {\n",
              "        text-align: right;\n",
              "    }\n",
              "</style>\n",
              "<table border=\"1\" class=\"dataframe\">\n",
              "  <thead>\n",
              "    <tr style=\"text-align: right;\">\n",
              "      <th></th>\n",
              "      <th>CODISNDISeligibleProfile</th>\n",
              "      <th>Age</th>\n",
              "    </tr>\n",
              "  </thead>\n",
              "  <tbody>\n",
              "    <tr>\n",
              "      <th>0</th>\n",
              "      <td>1</td>\n",
              "      <td>20-24</td>\n",
              "    </tr>\n",
              "    <tr>\n",
              "      <th>1</th>\n",
              "      <td>1</td>\n",
              "      <td>14-17</td>\n",
              "    </tr>\n",
              "    <tr>\n",
              "      <th>2</th>\n",
              "      <td>0</td>\n",
              "      <td>30-39</td>\n",
              "    </tr>\n",
              "    <tr>\n",
              "      <th>3</th>\n",
              "      <td>1</td>\n",
              "      <td>20-24</td>\n",
              "    </tr>\n",
              "    <tr>\n",
              "      <th>4</th>\n",
              "      <td>1</td>\n",
              "      <td>14-17</td>\n",
              "    </tr>\n",
              "    <tr>\n",
              "      <th>...</th>\n",
              "      <td>...</td>\n",
              "      <td>...</td>\n",
              "    </tr>\n",
              "    <tr>\n",
              "      <th>2234</th>\n",
              "      <td>1</td>\n",
              "      <td>20-24</td>\n",
              "    </tr>\n",
              "    <tr>\n",
              "      <th>2235</th>\n",
              "      <td>1</td>\n",
              "      <td>14-17</td>\n",
              "    </tr>\n",
              "    <tr>\n",
              "      <th>2236</th>\n",
              "      <td>1</td>\n",
              "      <td>20-24</td>\n",
              "    </tr>\n",
              "    <tr>\n",
              "      <th>2237</th>\n",
              "      <td>1</td>\n",
              "      <td>25-29</td>\n",
              "    </tr>\n",
              "    <tr>\n",
              "      <th>2238</th>\n",
              "      <td>1</td>\n",
              "      <td>18-19</td>\n",
              "    </tr>\n",
              "  </tbody>\n",
              "</table>\n",
              "<p>2239 rows × 2 columns</p>\n",
              "</div>"
            ],
            "text/plain": [
              "      CODISNDISeligibleProfile    Age\n",
              "0                            1  20-24\n",
              "1                            1  14-17\n",
              "2                            0  30-39\n",
              "3                            1  20-24\n",
              "4                            1  14-17\n",
              "...                        ...    ...\n",
              "2234                         1  20-24\n",
              "2235                         1  14-17\n",
              "2236                         1  20-24\n",
              "2237                         1  25-29\n",
              "2238                         1  18-19\n",
              "\n",
              "[2239 rows x 2 columns]"
            ]
          },
          "metadata": {
            "tags": []
          },
          "execution_count": 4
        }
      ]
    },
    {
      "cell_type": "markdown",
      "metadata": {
        "id": "5Z7e1hd1hh2d"
      },
      "source": [
        "**Examine and Clean variables for use**"
      ]
    },
    {
      "cell_type": "code",
      "metadata": {
        "id": "cZ8KXjLbt-Hf"
      },
      "source": [
        "df = df.apply(pd.to_numeric, errors='ignore')"
      ],
      "execution_count": 5,
      "outputs": []
    },
    {
      "cell_type": "code",
      "metadata": {
        "id": "O1Fam7izuWMC",
        "colab": {
          "base_uri": "https://localhost:8080/",
          "height": 635
        },
        "outputId": "04772a6f-1926-4af8-a032-0b111b7d11e1"
      },
      "source": [
        "df"
      ],
      "execution_count": 6,
      "outputs": [
        {
          "output_type": "execute_result",
          "data": {
            "text/html": [
              "<div>\n",
              "<style scoped>\n",
              "    .dataframe tbody tr th:only-of-type {\n",
              "        vertical-align: middle;\n",
              "    }\n",
              "\n",
              "    .dataframe tbody tr th {\n",
              "        vertical-align: top;\n",
              "    }\n",
              "\n",
              "    .dataframe thead th {\n",
              "        text-align: right;\n",
              "    }\n",
              "</style>\n",
              "<table border=\"1\" class=\"dataframe\">\n",
              "  <thead>\n",
              "    <tr style=\"text-align: right;\">\n",
              "      <th></th>\n",
              "      <th>Site</th>\n",
              "      <th>EXAMbySANE</th>\n",
              "      <th>YearKitCollected</th>\n",
              "      <th>KITbroughtTOcrimelab</th>\n",
              "      <th>KITlengthofSubmissionTime</th>\n",
              "      <th>Age</th>\n",
              "      <th>UnderAge18</th>\n",
              "      <th>Gender</th>\n",
              "      <th>ExamDeclined</th>\n",
              "      <th>Noninterview</th>\n",
              "      <th>Timebetweenassaultandexaminhours</th>\n",
              "      <th>Race</th>\n",
              "      <th>Raceother</th>\n",
              "      <th>PriorHxofSAover14</th>\n",
              "      <th>PriorHxofSAunder14</th>\n",
              "      <th>Student</th>\n",
              "      <th>SchoolName</th>\n",
              "      <th>Military</th>\n",
              "      <th>MilitaryBranchName</th>\n",
              "      <th>Pain</th>\n",
              "      <th>PainLevel</th>\n",
              "      <th>PainLocation1</th>\n",
              "      <th>PainLocation2</th>\n",
              "      <th>PainLocation3</th>\n",
              "      <th>PainLocation4</th>\n",
              "      <th>PainTreatment</th>\n",
              "      <th>PermanentAddress</th>\n",
              "      <th>AddressIfnotPermanent</th>\n",
              "      <th>CurrentPhysicalmedprob</th>\n",
              "      <th>Currentmedprobtext</th>\n",
              "      <th>MedProbChronic</th>\n",
              "      <th>MedProbInfection</th>\n",
              "      <th>MedProbBlood</th>\n",
              "      <th>MedProbCardiac</th>\n",
              "      <th>MedProbEar</th>\n",
              "      <th>MedProbEndocrine</th>\n",
              "      <th>MedProbEye</th>\n",
              "      <th>MedProbGI</th>\n",
              "      <th>MedProbGU</th>\n",
              "      <th>MedProbGYN</th>\n",
              "      <th>...</th>\n",
              "      <th>LGIglanspenis</th>\n",
              "      <th>LGIpenileshaft</th>\n",
              "      <th>LGImaleURETHRALmeatus</th>\n",
              "      <th>LGIscrotum</th>\n",
              "      <th>LGItestes</th>\n",
              "      <th>LGImaleanus</th>\n",
              "      <th>LGImalerectum</th>\n",
              "      <th>TGIlaceration</th>\n",
              "      <th>TGIecchymosis</th>\n",
              "      <th>TGIabrasion</th>\n",
              "      <th>TGIredness</th>\n",
              "      <th>TGIswelling</th>\n",
              "      <th>TGIbruise</th>\n",
              "      <th>TGIpetechiae</th>\n",
              "      <th>TGIincision</th>\n",
              "      <th>TGIavulsion</th>\n",
              "      <th>TGIdiscoloredmark</th>\n",
              "      <th>TGIpuncturewound</th>\n",
              "      <th>ToludineDYEuptake</th>\n",
              "      <th>HIVnPEP</th>\n",
              "      <th>Yscreen</th>\n",
              "      <th>NumberOFitemsTested</th>\n",
              "      <th>NumberItemsWITH3cutoff</th>\n",
              "      <th>ItemsAnalyzed1</th>\n",
              "      <th>ItemsAnalyzed2</th>\n",
              "      <th>ItemsAnalyzed3</th>\n",
              "      <th>ItemsAnalyzed4</th>\n",
              "      <th>ItemsAnalyzed5</th>\n",
              "      <th>ItemsAnalyzed6</th>\n",
              "      <th>ItemsAnalyzed7</th>\n",
              "      <th>ItemsAnalyzed8</th>\n",
              "      <th>ItemsAnalyzed9</th>\n",
              "      <th>ItemsAnalyzed10</th>\n",
              "      <th>TypesOFitemsTested</th>\n",
              "      <th>TimeBetweenCollectAndDNAext</th>\n",
              "      <th>TimeBetweenSubmissionANDtesting</th>\n",
              "      <th>NumberOfswabsDNAanalysis</th>\n",
              "      <th>SuspectStandardSubmitted</th>\n",
              "      <th>ConsensualPartnerStandardSubmitted</th>\n",
              "      <th>CODISNDISeligibleProfile</th>\n",
              "    </tr>\n",
              "  </thead>\n",
              "  <tbody>\n",
              "    <tr>\n",
              "      <th>0</th>\n",
              "      <td>1</td>\n",
              "      <td>1</td>\n",
              "      <td>2</td>\n",
              "      <td>1</td>\n",
              "      <td>2</td>\n",
              "      <td>20-24</td>\n",
              "      <td>0</td>\n",
              "      <td>1</td>\n",
              "      <td>0</td>\n",
              "      <td></td>\n",
              "      <td>0-5.9</td>\n",
              "      <td>1</td>\n",
              "      <td></td>\n",
              "      <td></td>\n",
              "      <td></td>\n",
              "      <td></td>\n",
              "      <td></td>\n",
              "      <td></td>\n",
              "      <td></td>\n",
              "      <td></td>\n",
              "      <td></td>\n",
              "      <td></td>\n",
              "      <td></td>\n",
              "      <td></td>\n",
              "      <td></td>\n",
              "      <td></td>\n",
              "      <td></td>\n",
              "      <td></td>\n",
              "      <td>1</td>\n",
              "      <td>Heartburn and pain in LLQ abdomen</td>\n",
              "      <td>1</td>\n",
              "      <td>0</td>\n",
              "      <td>0</td>\n",
              "      <td>0</td>\n",
              "      <td>0</td>\n",
              "      <td>0</td>\n",
              "      <td>0</td>\n",
              "      <td>1</td>\n",
              "      <td>0</td>\n",
              "      <td>0</td>\n",
              "      <td>...</td>\n",
              "      <td>3</td>\n",
              "      <td>3</td>\n",
              "      <td>3</td>\n",
              "      <td>3</td>\n",
              "      <td>3</td>\n",
              "      <td>3</td>\n",
              "      <td>3</td>\n",
              "      <td>1</td>\n",
              "      <td>0</td>\n",
              "      <td>1</td>\n",
              "      <td>1</td>\n",
              "      <td>1</td>\n",
              "      <td>0</td>\n",
              "      <td>0</td>\n",
              "      <td>0</td>\n",
              "      <td>0</td>\n",
              "      <td>0</td>\n",
              "      <td>0</td>\n",
              "      <td>1</td>\n",
              "      <td>0</td>\n",
              "      <td></td>\n",
              "      <td>11</td>\n",
              "      <td>2</td>\n",
              "      <td>1</td>\n",
              "      <td>2</td>\n",
              "      <td>3</td>\n",
              "      <td>4</td>\n",
              "      <td>6</td>\n",
              "      <td>8</td>\n",
              "      <td>11</td>\n",
              "      <td></td>\n",
              "      <td></td>\n",
              "      <td></td>\n",
              "      <td>3</td>\n",
              "      <td>12</td>\n",
              "      <td>5</td>\n",
              "      <td>9</td>\n",
              "      <td>1</td>\n",
              "      <td>0</td>\n",
              "      <td>1</td>\n",
              "    </tr>\n",
              "    <tr>\n",
              "      <th>1</th>\n",
              "      <td>4</td>\n",
              "      <td>1</td>\n",
              "      <td>6</td>\n",
              "      <td>1</td>\n",
              "      <td>1</td>\n",
              "      <td>14-17</td>\n",
              "      <td>1</td>\n",
              "      <td>1</td>\n",
              "      <td>0</td>\n",
              "      <td>0</td>\n",
              "      <td>12-23.9</td>\n",
              "      <td>1</td>\n",
              "      <td></td>\n",
              "      <td></td>\n",
              "      <td></td>\n",
              "      <td></td>\n",
              "      <td></td>\n",
              "      <td></td>\n",
              "      <td></td>\n",
              "      <td></td>\n",
              "      <td></td>\n",
              "      <td></td>\n",
              "      <td></td>\n",
              "      <td></td>\n",
              "      <td></td>\n",
              "      <td></td>\n",
              "      <td></td>\n",
              "      <td></td>\n",
              "      <td>0</td>\n",
              "      <td></td>\n",
              "      <td>0</td>\n",
              "      <td>0</td>\n",
              "      <td>0</td>\n",
              "      <td>0</td>\n",
              "      <td>0</td>\n",
              "      <td>0</td>\n",
              "      <td>0</td>\n",
              "      <td>0</td>\n",
              "      <td>0</td>\n",
              "      <td>0</td>\n",
              "      <td>...</td>\n",
              "      <td>3</td>\n",
              "      <td>3</td>\n",
              "      <td>3</td>\n",
              "      <td>3</td>\n",
              "      <td>3</td>\n",
              "      <td>3</td>\n",
              "      <td>3</td>\n",
              "      <td>0</td>\n",
              "      <td>0</td>\n",
              "      <td>0</td>\n",
              "      <td>0</td>\n",
              "      <td>0</td>\n",
              "      <td>0</td>\n",
              "      <td>0</td>\n",
              "      <td>0</td>\n",
              "      <td>0</td>\n",
              "      <td>0</td>\n",
              "      <td>0</td>\n",
              "      <td>0</td>\n",
              "      <td>0</td>\n",
              "      <td></td>\n",
              "      <td>17</td>\n",
              "      <td>2</td>\n",
              "      <td>1</td>\n",
              "      <td>2</td>\n",
              "      <td>3</td>\n",
              "      <td>5</td>\n",
              "      <td>8</td>\n",
              "      <td>9</td>\n",
              "      <td>10</td>\n",
              "      <td>11</td>\n",
              "      <td></td>\n",
              "      <td></td>\n",
              "      <td>5</td>\n",
              "      <td>9</td>\n",
              "      <td>8</td>\n",
              "      <td>7</td>\n",
              "      <td>1</td>\n",
              "      <td>0</td>\n",
              "      <td>1</td>\n",
              "    </tr>\n",
              "    <tr>\n",
              "      <th>2</th>\n",
              "      <td>1</td>\n",
              "      <td>1</td>\n",
              "      <td>8</td>\n",
              "      <td>1</td>\n",
              "      <td>1</td>\n",
              "      <td>30-39</td>\n",
              "      <td>0</td>\n",
              "      <td>1</td>\n",
              "      <td>0</td>\n",
              "      <td>0</td>\n",
              "      <td>0-5.9</td>\n",
              "      <td>3</td>\n",
              "      <td></td>\n",
              "      <td>0</td>\n",
              "      <td>0</td>\n",
              "      <td>0</td>\n",
              "      <td></td>\n",
              "      <td>0</td>\n",
              "      <td></td>\n",
              "      <td>1</td>\n",
              "      <td></td>\n",
              "      <td>1</td>\n",
              "      <td>2</td>\n",
              "      <td>5</td>\n",
              "      <td></td>\n",
              "      <td>1</td>\n",
              "      <td>1</td>\n",
              "      <td></td>\n",
              "      <td>1</td>\n",
              "      <td>pt has small uterus and never got her menstrua...</td>\n",
              "      <td>0</td>\n",
              "      <td>0</td>\n",
              "      <td>0</td>\n",
              "      <td>0</td>\n",
              "      <td>0</td>\n",
              "      <td>0</td>\n",
              "      <td>0</td>\n",
              "      <td>0</td>\n",
              "      <td>0</td>\n",
              "      <td>1</td>\n",
              "      <td>...</td>\n",
              "      <td>3</td>\n",
              "      <td>3</td>\n",
              "      <td>3</td>\n",
              "      <td>3</td>\n",
              "      <td>3</td>\n",
              "      <td>3</td>\n",
              "      <td>3</td>\n",
              "      <td>0</td>\n",
              "      <td>0</td>\n",
              "      <td>0</td>\n",
              "      <td>0</td>\n",
              "      <td>0</td>\n",
              "      <td>0</td>\n",
              "      <td>0</td>\n",
              "      <td>0</td>\n",
              "      <td>0</td>\n",
              "      <td>0</td>\n",
              "      <td>0</td>\n",
              "      <td>0</td>\n",
              "      <td>0</td>\n",
              "      <td></td>\n",
              "      <td>7</td>\n",
              "      <td>2</td>\n",
              "      <td>7</td>\n",
              "      <td>8</td>\n",
              "      <td>9</td>\n",
              "      <td>10</td>\n",
              "      <td></td>\n",
              "      <td></td>\n",
              "      <td></td>\n",
              "      <td></td>\n",
              "      <td></td>\n",
              "      <td></td>\n",
              "      <td>2</td>\n",
              "      <td>13</td>\n",
              "      <td>13</td>\n",
              "      <td>7</td>\n",
              "      <td>0</td>\n",
              "      <td>0</td>\n",
              "      <td>0</td>\n",
              "    </tr>\n",
              "    <tr>\n",
              "      <th>3</th>\n",
              "      <td>1</td>\n",
              "      <td>1</td>\n",
              "      <td>4</td>\n",
              "      <td>1</td>\n",
              "      <td>1</td>\n",
              "      <td>20-24</td>\n",
              "      <td>0</td>\n",
              "      <td>1</td>\n",
              "      <td>0</td>\n",
              "      <td>0</td>\n",
              "      <td>12-23.9</td>\n",
              "      <td>1</td>\n",
              "      <td></td>\n",
              "      <td>0</td>\n",
              "      <td>1</td>\n",
              "      <td></td>\n",
              "      <td></td>\n",
              "      <td></td>\n",
              "      <td></td>\n",
              "      <td></td>\n",
              "      <td></td>\n",
              "      <td></td>\n",
              "      <td></td>\n",
              "      <td></td>\n",
              "      <td></td>\n",
              "      <td></td>\n",
              "      <td></td>\n",
              "      <td></td>\n",
              "      <td>1</td>\n",
              "      <td>Anemia, Asthma</td>\n",
              "      <td>1</td>\n",
              "      <td>0</td>\n",
              "      <td>1</td>\n",
              "      <td>0</td>\n",
              "      <td>0</td>\n",
              "      <td>0</td>\n",
              "      <td>0</td>\n",
              "      <td>0</td>\n",
              "      <td>0</td>\n",
              "      <td>0</td>\n",
              "      <td>...</td>\n",
              "      <td>3</td>\n",
              "      <td>3</td>\n",
              "      <td>3</td>\n",
              "      <td>3</td>\n",
              "      <td>3</td>\n",
              "      <td>3</td>\n",
              "      <td>3</td>\n",
              "      <td>0</td>\n",
              "      <td>1</td>\n",
              "      <td>1</td>\n",
              "      <td>0</td>\n",
              "      <td>0</td>\n",
              "      <td>0</td>\n",
              "      <td>0</td>\n",
              "      <td>0</td>\n",
              "      <td>0</td>\n",
              "      <td>0</td>\n",
              "      <td>0</td>\n",
              "      <td>1</td>\n",
              "      <td>0</td>\n",
              "      <td></td>\n",
              "      <td>14</td>\n",
              "      <td>2</td>\n",
              "      <td>1</td>\n",
              "      <td>2</td>\n",
              "      <td>3</td>\n",
              "      <td>4</td>\n",
              "      <td>5</td>\n",
              "      <td>6</td>\n",
              "      <td>8</td>\n",
              "      <td>9</td>\n",
              "      <td>11</td>\n",
              "      <td>12</td>\n",
              "      <td>5</td>\n",
              "      <td>12</td>\n",
              "      <td>12</td>\n",
              "      <td>6</td>\n",
              "      <td>1</td>\n",
              "      <td>0</td>\n",
              "      <td>1</td>\n",
              "    </tr>\n",
              "    <tr>\n",
              "      <th>4</th>\n",
              "      <td>1</td>\n",
              "      <td>1</td>\n",
              "      <td>5</td>\n",
              "      <td>1</td>\n",
              "      <td>2</td>\n",
              "      <td>14-17</td>\n",
              "      <td>0</td>\n",
              "      <td>1</td>\n",
              "      <td>0</td>\n",
              "      <td>0</td>\n",
              "      <td>24-47.9</td>\n",
              "      <td>7</td>\n",
              "      <td></td>\n",
              "      <td>0</td>\n",
              "      <td>0</td>\n",
              "      <td></td>\n",
              "      <td></td>\n",
              "      <td></td>\n",
              "      <td></td>\n",
              "      <td></td>\n",
              "      <td></td>\n",
              "      <td></td>\n",
              "      <td></td>\n",
              "      <td></td>\n",
              "      <td></td>\n",
              "      <td></td>\n",
              "      <td></td>\n",
              "      <td></td>\n",
              "      <td>0</td>\n",
              "      <td></td>\n",
              "      <td>0</td>\n",
              "      <td>0</td>\n",
              "      <td>0</td>\n",
              "      <td>0</td>\n",
              "      <td>0</td>\n",
              "      <td>0</td>\n",
              "      <td>0</td>\n",
              "      <td>0</td>\n",
              "      <td>0</td>\n",
              "      <td>0</td>\n",
              "      <td>...</td>\n",
              "      <td>3</td>\n",
              "      <td>3</td>\n",
              "      <td>3</td>\n",
              "      <td>3</td>\n",
              "      <td>3</td>\n",
              "      <td>3</td>\n",
              "      <td>3</td>\n",
              "      <td>1</td>\n",
              "      <td>0</td>\n",
              "      <td>0</td>\n",
              "      <td>0</td>\n",
              "      <td>0</td>\n",
              "      <td>0</td>\n",
              "      <td>0</td>\n",
              "      <td>0</td>\n",
              "      <td>0</td>\n",
              "      <td>0</td>\n",
              "      <td>0</td>\n",
              "      <td>0</td>\n",
              "      <td>0</td>\n",
              "      <td></td>\n",
              "      <td>12</td>\n",
              "      <td>2</td>\n",
              "      <td>1</td>\n",
              "      <td>2</td>\n",
              "      <td>3</td>\n",
              "      <td>4</td>\n",
              "      <td>5</td>\n",
              "      <td>6</td>\n",
              "      <td>8</td>\n",
              "      <td>11</td>\n",
              "      <td></td>\n",
              "      <td></td>\n",
              "      <td>3</td>\n",
              "      <td>10</td>\n",
              "      <td>6</td>\n",
              "      <td>6</td>\n",
              "      <td>1</td>\n",
              "      <td>0</td>\n",
              "      <td>1</td>\n",
              "    </tr>\n",
              "    <tr>\n",
              "      <th>...</th>\n",
              "      <td>...</td>\n",
              "      <td>...</td>\n",
              "      <td>...</td>\n",
              "      <td>...</td>\n",
              "      <td>...</td>\n",
              "      <td>...</td>\n",
              "      <td>...</td>\n",
              "      <td>...</td>\n",
              "      <td>...</td>\n",
              "      <td>...</td>\n",
              "      <td>...</td>\n",
              "      <td>...</td>\n",
              "      <td>...</td>\n",
              "      <td>...</td>\n",
              "      <td>...</td>\n",
              "      <td>...</td>\n",
              "      <td>...</td>\n",
              "      <td>...</td>\n",
              "      <td>...</td>\n",
              "      <td>...</td>\n",
              "      <td>...</td>\n",
              "      <td>...</td>\n",
              "      <td>...</td>\n",
              "      <td>...</td>\n",
              "      <td>...</td>\n",
              "      <td>...</td>\n",
              "      <td>...</td>\n",
              "      <td>...</td>\n",
              "      <td>...</td>\n",
              "      <td>...</td>\n",
              "      <td>...</td>\n",
              "      <td>...</td>\n",
              "      <td>...</td>\n",
              "      <td>...</td>\n",
              "      <td>...</td>\n",
              "      <td>...</td>\n",
              "      <td>...</td>\n",
              "      <td>...</td>\n",
              "      <td>...</td>\n",
              "      <td>...</td>\n",
              "      <td>...</td>\n",
              "      <td>...</td>\n",
              "      <td>...</td>\n",
              "      <td>...</td>\n",
              "      <td>...</td>\n",
              "      <td>...</td>\n",
              "      <td>...</td>\n",
              "      <td>...</td>\n",
              "      <td>...</td>\n",
              "      <td>...</td>\n",
              "      <td>...</td>\n",
              "      <td>...</td>\n",
              "      <td>...</td>\n",
              "      <td>...</td>\n",
              "      <td>...</td>\n",
              "      <td>...</td>\n",
              "      <td>...</td>\n",
              "      <td>...</td>\n",
              "      <td>...</td>\n",
              "      <td>...</td>\n",
              "      <td>...</td>\n",
              "      <td>...</td>\n",
              "      <td>...</td>\n",
              "      <td>...</td>\n",
              "      <td>...</td>\n",
              "      <td>...</td>\n",
              "      <td>...</td>\n",
              "      <td>...</td>\n",
              "      <td>...</td>\n",
              "      <td>...</td>\n",
              "      <td>...</td>\n",
              "      <td>...</td>\n",
              "      <td>...</td>\n",
              "      <td>...</td>\n",
              "      <td>...</td>\n",
              "      <td>...</td>\n",
              "      <td>...</td>\n",
              "      <td>...</td>\n",
              "      <td>...</td>\n",
              "      <td>...</td>\n",
              "      <td>...</td>\n",
              "    </tr>\n",
              "    <tr>\n",
              "      <th>2234</th>\n",
              "      <td>5</td>\n",
              "      <td>0</td>\n",
              "      <td>7</td>\n",
              "      <td>1</td>\n",
              "      <td>2</td>\n",
              "      <td>20-24</td>\n",
              "      <td>0</td>\n",
              "      <td>1</td>\n",
              "      <td>0</td>\n",
              "      <td>0</td>\n",
              "      <td>48+</td>\n",
              "      <td>1</td>\n",
              "      <td></td>\n",
              "      <td></td>\n",
              "      <td></td>\n",
              "      <td></td>\n",
              "      <td></td>\n",
              "      <td></td>\n",
              "      <td></td>\n",
              "      <td></td>\n",
              "      <td></td>\n",
              "      <td></td>\n",
              "      <td></td>\n",
              "      <td></td>\n",
              "      <td></td>\n",
              "      <td></td>\n",
              "      <td></td>\n",
              "      <td></td>\n",
              "      <td>1</td>\n",
              "      <td>ovarian cancer peridarditits</td>\n",
              "      <td>0</td>\n",
              "      <td>0</td>\n",
              "      <td>0</td>\n",
              "      <td>1</td>\n",
              "      <td>0</td>\n",
              "      <td>0</td>\n",
              "      <td>0</td>\n",
              "      <td>0</td>\n",
              "      <td>0</td>\n",
              "      <td>1</td>\n",
              "      <td>...</td>\n",
              "      <td>3</td>\n",
              "      <td>3</td>\n",
              "      <td>3</td>\n",
              "      <td>3</td>\n",
              "      <td>3</td>\n",
              "      <td>3</td>\n",
              "      <td>3</td>\n",
              "      <td>0</td>\n",
              "      <td>0</td>\n",
              "      <td>1</td>\n",
              "      <td>0</td>\n",
              "      <td>0</td>\n",
              "      <td>0</td>\n",
              "      <td>0</td>\n",
              "      <td>0</td>\n",
              "      <td>0</td>\n",
              "      <td>0</td>\n",
              "      <td>0</td>\n",
              "      <td>0</td>\n",
              "      <td>0</td>\n",
              "      <td></td>\n",
              "      <td>3</td>\n",
              "      <td>1</td>\n",
              "      <td>2</td>\n",
              "      <td>3</td>\n",
              "      <td>4</td>\n",
              "      <td></td>\n",
              "      <td></td>\n",
              "      <td></td>\n",
              "      <td></td>\n",
              "      <td></td>\n",
              "      <td></td>\n",
              "      <td></td>\n",
              "      <td>1</td>\n",
              "      <td>38</td>\n",
              "      <td>31</td>\n",
              "      <td>1</td>\n",
              "      <td>0</td>\n",
              "      <td>0</td>\n",
              "      <td>1</td>\n",
              "    </tr>\n",
              "    <tr>\n",
              "      <th>2235</th>\n",
              "      <td>5</td>\n",
              "      <td>0</td>\n",
              "      <td>7</td>\n",
              "      <td>1</td>\n",
              "      <td>2</td>\n",
              "      <td>14-17</td>\n",
              "      <td>1</td>\n",
              "      <td>1</td>\n",
              "      <td>0</td>\n",
              "      <td>0</td>\n",
              "      <td>12-23.9</td>\n",
              "      <td>1</td>\n",
              "      <td></td>\n",
              "      <td></td>\n",
              "      <td></td>\n",
              "      <td></td>\n",
              "      <td></td>\n",
              "      <td></td>\n",
              "      <td></td>\n",
              "      <td></td>\n",
              "      <td></td>\n",
              "      <td></td>\n",
              "      <td></td>\n",
              "      <td></td>\n",
              "      <td></td>\n",
              "      <td></td>\n",
              "      <td></td>\n",
              "      <td></td>\n",
              "      <td>0</td>\n",
              "      <td>depresion, anxiety, bipolar</td>\n",
              "      <td>0</td>\n",
              "      <td>0</td>\n",
              "      <td>0</td>\n",
              "      <td>0</td>\n",
              "      <td>0</td>\n",
              "      <td>0</td>\n",
              "      <td>0</td>\n",
              "      <td>0</td>\n",
              "      <td>0</td>\n",
              "      <td>0</td>\n",
              "      <td>...</td>\n",
              "      <td>3</td>\n",
              "      <td>3</td>\n",
              "      <td>3</td>\n",
              "      <td>3</td>\n",
              "      <td>3</td>\n",
              "      <td>3</td>\n",
              "      <td>3</td>\n",
              "      <td>0</td>\n",
              "      <td>0</td>\n",
              "      <td>0</td>\n",
              "      <td>0</td>\n",
              "      <td>0</td>\n",
              "      <td>0</td>\n",
              "      <td>0</td>\n",
              "      <td>0</td>\n",
              "      <td>0</td>\n",
              "      <td>0</td>\n",
              "      <td>0</td>\n",
              "      <td>1</td>\n",
              "      <td>0</td>\n",
              "      <td></td>\n",
              "      <td>3</td>\n",
              "      <td>1</td>\n",
              "      <td>1</td>\n",
              "      <td>3</td>\n",
              "      <td>7</td>\n",
              "      <td></td>\n",
              "      <td></td>\n",
              "      <td></td>\n",
              "      <td></td>\n",
              "      <td></td>\n",
              "      <td></td>\n",
              "      <td></td>\n",
              "      <td>1</td>\n",
              "      <td>22</td>\n",
              "      <td>21</td>\n",
              "      <td>1</td>\n",
              "      <td>0</td>\n",
              "      <td>0</td>\n",
              "      <td>1</td>\n",
              "    </tr>\n",
              "    <tr>\n",
              "      <th>2236</th>\n",
              "      <td>5</td>\n",
              "      <td>0</td>\n",
              "      <td>7</td>\n",
              "      <td>1</td>\n",
              "      <td>1</td>\n",
              "      <td>20-24</td>\n",
              "      <td>0</td>\n",
              "      <td>1</td>\n",
              "      <td>0</td>\n",
              "      <td>0</td>\n",
              "      <td>24-47.9</td>\n",
              "      <td>3</td>\n",
              "      <td></td>\n",
              "      <td></td>\n",
              "      <td></td>\n",
              "      <td></td>\n",
              "      <td></td>\n",
              "      <td></td>\n",
              "      <td></td>\n",
              "      <td>1</td>\n",
              "      <td>0</td>\n",
              "      <td>6</td>\n",
              "      <td>4</td>\n",
              "      <td>2</td>\n",
              "      <td>7</td>\n",
              "      <td></td>\n",
              "      <td></td>\n",
              "      <td></td>\n",
              "      <td>0</td>\n",
              "      <td>depression, anxiety, Hep C</td>\n",
              "      <td>1</td>\n",
              "      <td>1</td>\n",
              "      <td>0</td>\n",
              "      <td>0</td>\n",
              "      <td>0</td>\n",
              "      <td>0</td>\n",
              "      <td>0</td>\n",
              "      <td>0</td>\n",
              "      <td>0</td>\n",
              "      <td>0</td>\n",
              "      <td>...</td>\n",
              "      <td>3</td>\n",
              "      <td>3</td>\n",
              "      <td>3</td>\n",
              "      <td>3</td>\n",
              "      <td>3</td>\n",
              "      <td>3</td>\n",
              "      <td>3</td>\n",
              "      <td>0</td>\n",
              "      <td>0</td>\n",
              "      <td>0</td>\n",
              "      <td>0</td>\n",
              "      <td>0</td>\n",
              "      <td>0</td>\n",
              "      <td>0</td>\n",
              "      <td>0</td>\n",
              "      <td>0</td>\n",
              "      <td>0</td>\n",
              "      <td>0</td>\n",
              "      <td>0</td>\n",
              "      <td>1</td>\n",
              "      <td></td>\n",
              "      <td>3</td>\n",
              "      <td>1</td>\n",
              "      <td>1</td>\n",
              "      <td>3</td>\n",
              "      <td>4</td>\n",
              "      <td></td>\n",
              "      <td></td>\n",
              "      <td></td>\n",
              "      <td></td>\n",
              "      <td></td>\n",
              "      <td></td>\n",
              "      <td></td>\n",
              "      <td>1</td>\n",
              "      <td>27</td>\n",
              "      <td>27</td>\n",
              "      <td>1</td>\n",
              "      <td>0</td>\n",
              "      <td>0</td>\n",
              "      <td>1</td>\n",
              "    </tr>\n",
              "    <tr>\n",
              "      <th>2237</th>\n",
              "      <td>5</td>\n",
              "      <td>0</td>\n",
              "      <td>8</td>\n",
              "      <td>1</td>\n",
              "      <td>2</td>\n",
              "      <td>25-29</td>\n",
              "      <td>0</td>\n",
              "      <td>1</td>\n",
              "      <td>0</td>\n",
              "      <td>0</td>\n",
              "      <td>12-23.9</td>\n",
              "      <td>1</td>\n",
              "      <td></td>\n",
              "      <td></td>\n",
              "      <td></td>\n",
              "      <td></td>\n",
              "      <td></td>\n",
              "      <td></td>\n",
              "      <td></td>\n",
              "      <td>0</td>\n",
              "      <td></td>\n",
              "      <td></td>\n",
              "      <td></td>\n",
              "      <td></td>\n",
              "      <td></td>\n",
              "      <td></td>\n",
              "      <td></td>\n",
              "      <td></td>\n",
              "      <td>1</td>\n",
              "      <td>TBI, anxiety, sinus infection</td>\n",
              "      <td>1</td>\n",
              "      <td>1</td>\n",
              "      <td>0</td>\n",
              "      <td>0</td>\n",
              "      <td>0</td>\n",
              "      <td>0</td>\n",
              "      <td>0</td>\n",
              "      <td>0</td>\n",
              "      <td>0</td>\n",
              "      <td>0</td>\n",
              "      <td>...</td>\n",
              "      <td>3</td>\n",
              "      <td>3</td>\n",
              "      <td>3</td>\n",
              "      <td>3</td>\n",
              "      <td>3</td>\n",
              "      <td>3</td>\n",
              "      <td>3</td>\n",
              "      <td>0</td>\n",
              "      <td>0</td>\n",
              "      <td>0</td>\n",
              "      <td>0</td>\n",
              "      <td>0</td>\n",
              "      <td>0</td>\n",
              "      <td>0</td>\n",
              "      <td>0</td>\n",
              "      <td>0</td>\n",
              "      <td>0</td>\n",
              "      <td>0</td>\n",
              "      <td>0</td>\n",
              "      <td>0</td>\n",
              "      <td></td>\n",
              "      <td>2</td>\n",
              "      <td>1</td>\n",
              "      <td>1</td>\n",
              "      <td>3</td>\n",
              "      <td></td>\n",
              "      <td></td>\n",
              "      <td></td>\n",
              "      <td></td>\n",
              "      <td></td>\n",
              "      <td></td>\n",
              "      <td></td>\n",
              "      <td></td>\n",
              "      <td>1</td>\n",
              "      <td>45</td>\n",
              "      <td>28</td>\n",
              "      <td>1</td>\n",
              "      <td>0</td>\n",
              "      <td>0</td>\n",
              "      <td>1</td>\n",
              "    </tr>\n",
              "    <tr>\n",
              "      <th>2238</th>\n",
              "      <td>5</td>\n",
              "      <td>0</td>\n",
              "      <td>8</td>\n",
              "      <td>1</td>\n",
              "      <td>1</td>\n",
              "      <td>18-19</td>\n",
              "      <td>0</td>\n",
              "      <td>1</td>\n",
              "      <td>0</td>\n",
              "      <td>0</td>\n",
              "      <td>48+</td>\n",
              "      <td>1</td>\n",
              "      <td></td>\n",
              "      <td></td>\n",
              "      <td></td>\n",
              "      <td></td>\n",
              "      <td></td>\n",
              "      <td></td>\n",
              "      <td></td>\n",
              "      <td>1</td>\n",
              "      <td></td>\n",
              "      <td></td>\n",
              "      <td></td>\n",
              "      <td></td>\n",
              "      <td></td>\n",
              "      <td>1</td>\n",
              "      <td></td>\n",
              "      <td></td>\n",
              "      <td>1</td>\n",
              "      <td>hypothyroidism, depression, anxiety, bacterial...</td>\n",
              "      <td>1</td>\n",
              "      <td>1</td>\n",
              "      <td>0</td>\n",
              "      <td>0</td>\n",
              "      <td>0</td>\n",
              "      <td>0</td>\n",
              "      <td>0</td>\n",
              "      <td>0</td>\n",
              "      <td>0</td>\n",
              "      <td>0</td>\n",
              "      <td>...</td>\n",
              "      <td>3</td>\n",
              "      <td>3</td>\n",
              "      <td>3</td>\n",
              "      <td>3</td>\n",
              "      <td>3</td>\n",
              "      <td>3</td>\n",
              "      <td>3</td>\n",
              "      <td>0</td>\n",
              "      <td>0</td>\n",
              "      <td>0</td>\n",
              "      <td>0</td>\n",
              "      <td>0</td>\n",
              "      <td>0</td>\n",
              "      <td>0</td>\n",
              "      <td>0</td>\n",
              "      <td>0</td>\n",
              "      <td>0</td>\n",
              "      <td>0</td>\n",
              "      <td>0</td>\n",
              "      <td>0</td>\n",
              "      <td></td>\n",
              "      <td>2</td>\n",
              "      <td>1</td>\n",
              "      <td>1</td>\n",
              "      <td>3</td>\n",
              "      <td></td>\n",
              "      <td></td>\n",
              "      <td></td>\n",
              "      <td></td>\n",
              "      <td></td>\n",
              "      <td></td>\n",
              "      <td></td>\n",
              "      <td></td>\n",
              "      <td>1</td>\n",
              "      <td>32</td>\n",
              "      <td>30</td>\n",
              "      <td>1</td>\n",
              "      <td>0</td>\n",
              "      <td>0</td>\n",
              "      <td>1</td>\n",
              "    </tr>\n",
              "  </tbody>\n",
              "</table>\n",
              "<p>2239 rows × 254 columns</p>\n",
              "</div>"
            ],
            "text/plain": [
              "     Site  ...  CODISNDISeligibleProfile\n",
              "0       1  ...                         1\n",
              "1       4  ...                         1\n",
              "2       1  ...                         0\n",
              "3       1  ...                         1\n",
              "4       1  ...                         1\n",
              "...   ...  ...                       ...\n",
              "2234    5  ...                         1\n",
              "2235    5  ...                         1\n",
              "2236    5  ...                         1\n",
              "2237    5  ...                         1\n",
              "2238    5  ...                         1\n",
              "\n",
              "[2239 rows x 254 columns]"
            ]
          },
          "metadata": {
            "tags": []
          },
          "execution_count": 6
        }
      ]
    },
    {
      "cell_type": "code",
      "metadata": {
        "id": "s1ZZfQuNl8Kz"
      },
      "source": [
        "df = df.astype({'Site': int, 'EXAMbySANE': int, 'YearKitCollected': int, 'KITbroughtTOcrimelab': int, 'KITlengthofSubmissionTime': int, 'Age': str, 'UnderAge18': int, 'Gender': int, 'ExamDeclined': bool, 'Noninterview': bool, 'Timebetweenassaultandexaminhours': str, 'Race': int, 'Raceother': int, 'PriorHxofSAover14': bool, 'PriorHxofSAunder14': bool, 'Student': bool, 'SchoolName': str, 'Military': bool, 'MilitaryBranchName': str, 'Pain': bool, 'PainLevel': int, 'PainLocation1': int, 'PainLocation2': int, 'PainLocation3': int, 'PainLocation4': int, 'PainTreatment': bool}, errors='ignore') "
      ],
      "execution_count": 7,
      "outputs": []
    },
    {
      "cell_type": "code",
      "metadata": {
        "id": "e5pOau2tHBFO"
      },
      "source": [
        "counts = df['Gender'].value_counts()"
      ],
      "execution_count": 8,
      "outputs": []
    },
    {
      "cell_type": "code",
      "metadata": {
        "id": "jqP3a_OOIfCa",
        "colab": {
          "base_uri": "https://localhost:8080/"
        },
        "outputId": "1956f03d-4bbd-45ae-9aaf-888a78592ed5"
      },
      "source": [
        "counts"
      ],
      "execution_count": 9,
      "outputs": [
        {
          "output_type": "execute_result",
          "data": {
            "text/plain": [
              "1    2056\n",
              "2     164\n",
              "3      13\n",
              "4       3\n",
              "5       2\n",
              "        1\n",
              "Name: Gender, dtype: int64"
            ]
          },
          "metadata": {
            "tags": []
          },
          "execution_count": 9
        }
      ]
    },
    {
      "cell_type": "code",
      "metadata": {
        "id": "HX6AntCminJg"
      },
      "source": [
        "#df = df.astype({'PermanentAddress': bool, 'AddressIfnotPermanent': str, 'CurrentPhysicalmedprob': bool, 'Currentmedprobtext': str, 'MedProbChronic': bool, 'MedProbInfection': bool, 'MedProbBlood': bool, 'MedProbCardiac': bool, 'MedProbEar': bool, 'MedProbEndocrine': bool, 'MedProbEye': bool, 'MedProbGI': bool, 'MedProbGU': bool, 'MedProbGYN': bool}, errors='ignore')"
      ],
      "execution_count": 10,
      "outputs": []
    },
    {
      "cell_type": "code",
      "metadata": {
        "id": "0knpVvfIqLpZ"
      },
      "source": [
        "#df = df.astype({'CODISNDISeligibleProfile': int}, errors='ignore')"
      ],
      "execution_count": 11,
      "outputs": []
    },
    {
      "cell_type": "code",
      "metadata": {
        "id": "wZZRvMi6hlgR"
      },
      "source": [
        "df['Age_cat'] = df['Age'].astype('category')"
      ],
      "execution_count": 12,
      "outputs": []
    },
    {
      "cell_type": "code",
      "metadata": {
        "id": "eqgKTHQz0iBa",
        "colab": {
          "base_uri": "https://localhost:8080/"
        },
        "outputId": "cbd3b25f-e42d-4107-c042-97617755e816"
      },
      "source": [
        "df['Age_cat']"
      ],
      "execution_count": 13,
      "outputs": [
        {
          "output_type": "execute_result",
          "data": {
            "text/plain": [
              "0       20-24\n",
              "1       14-17\n",
              "2       30-39\n",
              "3       20-24\n",
              "4       14-17\n",
              "        ...  \n",
              "2234    20-24\n",
              "2235    14-17\n",
              "2236    20-24\n",
              "2237    25-29\n",
              "2238    18-19\n",
              "Name: Age_cat, Length: 2239, dtype: category\n",
              "Categories (7, object): [' ', '14-17', '18-19', '20-24', '25-29', '30-39', '40+']"
            ]
          },
          "metadata": {
            "tags": []
          },
          "execution_count": 13
        }
      ]
    },
    {
      "cell_type": "code",
      "metadata": {
        "id": "Tv8JlnlEwr2Y"
      },
      "source": [
        "df['Timebetweenassaultandexaminehours_cat'] = df['Timebetweenassaultandexaminhours'].astype('category')"
      ],
      "execution_count": 14,
      "outputs": []
    },
    {
      "cell_type": "code",
      "metadata": {
        "id": "araP9_hnztA5",
        "colab": {
          "base_uri": "https://localhost:8080/"
        },
        "outputId": "cb7dbe36-2983-453f-fbde-b03407bd2e82"
      },
      "source": [
        "df['Timebetweenassaultandexaminehours_cat']"
      ],
      "execution_count": 15,
      "outputs": [
        {
          "output_type": "execute_result",
          "data": {
            "text/plain": [
              "0         0-5.9\n",
              "1       12-23.9\n",
              "2         0-5.9\n",
              "3       12-23.9\n",
              "4       24-47.9\n",
              "         ...   \n",
              "2234        48+\n",
              "2235    12-23.9\n",
              "2236    24-47.9\n",
              "2237    12-23.9\n",
              "2238        48+\n",
              "Name: Timebetweenassaultandexaminehours_cat, Length: 2239, dtype: category\n",
              "Categories (6, object): [' ', '0-5.9', '12-23.9', '24-47.9', '48+', '6-11.9']"
            ]
          },
          "metadata": {
            "tags": []
          },
          "execution_count": 15
        }
      ]
    },
    {
      "cell_type": "markdown",
      "metadata": {
        "id": "ixyVbwWchsUb"
      },
      "source": [
        "**Run some models**"
      ]
    },
    {
      "cell_type": "markdown",
      "metadata": {
        "id": "TuCTYVzhJ4c5"
      },
      "source": [
        "Simple logistic models"
      ]
    },
    {
      "cell_type": "code",
      "metadata": {
        "id": "V5LG7hw3-Np6"
      },
      "source": [
        "# first running a simple logistic regression\n",
        "y, X = dmatrices('CODISNDISeligibleProfile ~ Gender + Age_cat', data=df, return_type='dataframe')"
      ],
      "execution_count": 16,
      "outputs": []
    },
    {
      "cell_type": "code",
      "metadata": {
        "colab": {
          "base_uri": "https://localhost:8080/"
        },
        "id": "kDnY4c99xx2U",
        "outputId": "f6e34c80-7336-4dc8-996e-14682b4ef09b"
      },
      "source": [
        "mod = sm.Logit(y, X)    # Describe model\r\n",
        "res = mod.fit()       # Fit model\r\n",
        "print(res.summary())"
      ],
      "execution_count": 17,
      "outputs": [
        {
          "output_type": "stream",
          "text": [
            "Warning: Maximum number of iterations has been exceeded.\n",
            "         Current function value: 0.577461\n",
            "         Iterations: 35\n",
            "                              Logit Regression Results                              \n",
            "====================================================================================\n",
            "Dep. Variable:     CODISNDISeligibleProfile   No. Observations:                 2239\n",
            "Model:                                Logit   Df Residuals:                     2227\n",
            "Method:                                 MLE   Df Model:                           11\n",
            "Date:                      Thu, 10 Dec 2020   Pseudo R-squ.:                 0.07608\n",
            "Time:                              12:34:23   Log-Likelihood:                -1292.9\n",
            "converged:                            False   LL-Null:                       -1399.4\n",
            "Covariance Type:                  nonrobust   LLR p-value:                 1.531e-39\n",
            "====================================================================================\n",
            "                       coef    std err          z      P>|z|      [0.025      0.975]\n",
            "------------------------------------------------------------------------------------\n",
            "Intercept         -127.2869    9.8e+05     -0.000      1.000   -1.92e+06    1.92e+06\n",
            "Gender[T.1]        -10.1133    205.126     -0.049      0.961    -412.153     391.926\n",
            "Gender[T.2]        -12.3865    205.126     -0.060      0.952    -414.426     389.653\n",
            "Gender[T.3]        -11.4978    205.127     -0.056      0.955    -413.539     390.543\n",
            "Gender[T.4]        -11.6740    205.130     -0.057      0.955    -413.720     390.373\n",
            "Gender[T.5]        -46.5791   5.46e+07  -8.53e-07      1.000   -1.07e+08    1.07e+08\n",
            "Age_cat[T.14-17]   138.8565    9.8e+05      0.000      1.000   -1.92e+06    1.92e+06\n",
            "Age_cat[T.18-19]   138.2854    9.8e+05      0.000      1.000   -1.92e+06    1.92e+06\n",
            "Age_cat[T.20-24]   138.4902    9.8e+05      0.000      1.000   -1.92e+06    1.92e+06\n",
            "Age_cat[T.25-29]   138.3497    9.8e+05      0.000      1.000   -1.92e+06    1.92e+06\n",
            "Age_cat[T.30-39]   138.2347    9.8e+05      0.000      1.000   -1.92e+06    1.92e+06\n",
            "Age_cat[T.40+]     137.9341    9.8e+05      0.000      1.000   -1.92e+06    1.92e+06\n",
            "====================================================================================\n"
          ],
          "name": "stdout"
        },
        {
          "output_type": "stream",
          "text": [
            "/usr/local/lib/python3.6/dist-packages/statsmodels/base/model.py:512: ConvergenceWarning: Maximum Likelihood optimization failed to converge. Check mle_retvals\n",
            "  \"Check mle_retvals\", ConvergenceWarning)\n"
          ],
          "name": "stderr"
        }
      ]
    },
    {
      "cell_type": "markdown",
      "metadata": {
        "id": "tmUzTuvW9AuZ"
      },
      "source": [
        "#**Run diagnostics on the data**\n",
        "1. confirm that each variable is numerical or categorical and available for analysis; \n",
        "2. perform a histogram for all variables; \n",
        "3. perform a correlation matrix and covariance matrix (or in the upper and lower triangle of the same matrix).\n",
        "4. Scatter-plot matrix of the top 10 variables that correlate with the CODISNDISeligibleProfile variable"
      ]
    },
    {
      "cell_type": "code",
      "metadata": {
        "id": "NV-KEaz1w_bU"
      },
      "source": [
        ""
      ],
      "execution_count": 17,
      "outputs": []
    },
    {
      "cell_type": "markdown",
      "metadata": {
        "id": "hvIW3MA_-ao9"
      },
      "source": [
        "# **Run simple diagnostic models of the data**\n",
        "Focal Variable: CODISNDISeligibleProfile\n",
        "\n",
        "1. Logistic regression (e.g., SciKitLearn or StatsModels) with 10-fold cross-validation\n",
        "2. Logistic regression with L1 regularization (e.g., dropping all but the most significant variables).\n",
        "\n",
        "\n",
        "\n",
        "\n",
        "\n"
      ]
    },
    {
      "cell_type": "code",
      "metadata": {
        "id": "YV9puTMtw-6J"
      },
      "source": [
        "from numpy import mean\r\n",
        "from numpy import std\r\n",
        "from sklearn.model_selection import KFold\r\n",
        "from sklearn.model_selection import cross_val_score\r\n",
        "from sklearn.linear_model import LogisticRegression"
      ],
      "execution_count": 18,
      "outputs": []
    },
    {
      "cell_type": "markdown",
      "metadata": {
        "id": "fnMNMgL7yMh5"
      },
      "source": [
        "**1. Logistic regression (e.g., SciKitLearn or StatsModels) with 10-fold cross-validation**"
      ]
    },
    {
      "cell_type": "code",
      "metadata": {
        "colab": {
          "base_uri": "https://localhost:8080/"
        },
        "id": "bHqJEHzqyKrw",
        "outputId": "c1087ed6-019f-4913-80a5-06e8cd8bfa40"
      },
      "source": [
        "cv = KFold(n_splits=10, random_state=1, shuffle=True)\r\n",
        "\r\n",
        "model = LogisticRegression()\r\n",
        "\r\n",
        "\r\n",
        "scores = cross_val_score(model, X, y, scoring='accuracy', cv=cv, n_jobs=-1)\r\n",
        "print(\"Accuracy: %.2f%%\" % (scores.mean()*100.0))"
      ],
      "execution_count": 19,
      "outputs": [
        {
          "output_type": "stream",
          "text": [
            "Accuracy: 72.67%\n"
          ],
          "name": "stdout"
        }
      ]
    },
    {
      "cell_type": "markdown",
      "metadata": {
        "id": "ba_4eL5PyP0G"
      },
      "source": [
        "**2. Logistic regression with L1 regularization (e.g., dropping all but the most significant variables).**"
      ]
    },
    {
      "cell_type": "code",
      "metadata": {
        "colab": {
          "base_uri": "https://localhost:8080/"
        },
        "id": "goSpvrKKyX3j",
        "outputId": "f2ac98e7-b621-4daf-b3c4-9e5f8f39bb13"
      },
      "source": [
        "model = LogisticRegression(penalty='l1', solver='liblinear')\r\n",
        "\r\n",
        "\r\n",
        "scores = cross_val_score(model, X, y, scoring='accuracy', cv=cv, n_jobs=-1)\r\n",
        "print(\"Accuracy: %.2f%%\" % (scores.mean()*100.0))"
      ],
      "execution_count": 20,
      "outputs": [
        {
          "output_type": "stream",
          "text": [
            "Accuracy: 72.53%\n"
          ],
          "name": "stdout"
        }
      ]
    },
    {
      "cell_type": "markdown",
      "metadata": {
        "id": "0SFDxDzi-2zx"
      },
      "source": [
        "# **Run neural networks with a variety of settings to achieve lowest loss on hold-out data**\n",
        "\n",
        "1. Run a series of two-layer hidden layer models with 100 hidden variables per layer with a final sigmoid activation function predicting CODISNDISeligibleProfile with a Cross-Entropy Loss but varying each of the following (3X3 = 9 models)\n",
        "  1. with activations between the hidden layers that are:\n",
        "    1. Linear \n",
        "    2. ReLU\n",
        "    3. Sigmoid \n",
        "  2. Using the following optimizations:\n",
        "    1. Simple back-propagation\n",
        "    2. Momentum\n",
        "    3. ADAM\n",
        "    4. Newton's method \n",
        "2. Pick the BEST model based on the lowest Cross-Entropy Loss. [My prediction is that it will be ReLU, ADAM], then re-run, but varying the following (10+10 = 20 models):\n",
        "  1. Number of hidden layers: \n",
        "    1. 1-10 added sequentially with \"DropIn\": https://arxiv.org/abs/1511.06951)*\n",
        "    2. 1-10 layers holding the total number of hidden variables constant (e.g., 1-layer with 100 hidden variables; 2-layer with 50 in each of 2 layers; 3-layer with 34, 33, and 33 in each of 3 years...; 10-layer with 10 in each of 10 layers)\n",
        "3. Pick the BEST model based on lowest Cross-Entropy Loss, then rerun with those layers, but varying the following (4 * 3 = 12 models)\n",
        "  1. Regularization:\n",
        "    1. DropOut*\n",
        "    2. DropConnect\n",
        "    3. ShakeOut (https://arxiv.org/pdf/1904.06593.pdf)\n",
        "    4. StandOut (https://papers.nips.cc/paper/2013/file/7b5b23f4aadf9513306bcd59afb6e4c9-Paper.pdf)\n",
        "  2. Early stopping (after 2, 5 & 10 training epochs)\n",
        "4. Pick the BEST model and describe in detail "
      ]
    },
    {
      "cell_type": "code",
      "metadata": {
        "id": "XqKWasez20Rf",
        "colab": {
          "base_uri": "https://localhost:8080/"
        },
        "outputId": "a5351bf1-5c27-4919-be3a-5cc77207a83b"
      },
      "source": [
        "from sklearn.model_selection import train_test_split\r\n",
        "!pip install keras-drop-connect"
      ],
      "execution_count": 49,
      "outputs": [
        {
          "output_type": "stream",
          "text": [
            "Collecting keras-drop-connect\n",
            "  Downloading https://files.pythonhosted.org/packages/a6/6a/5eca7be2f2badf42b21aa8896dd11552a03a1e42ddfd2fd15259aba9df24/keras-drop-connect-0.2.0.tar.gz\n",
            "Requirement already satisfied: numpy in /usr/local/lib/python3.6/dist-packages (from keras-drop-connect) (1.18.5)\n",
            "Requirement already satisfied: Keras in /usr/local/lib/python3.6/dist-packages (from keras-drop-connect) (2.4.3)\n",
            "Requirement already satisfied: pyyaml in /usr/local/lib/python3.6/dist-packages (from Keras->keras-drop-connect) (3.13)\n",
            "Requirement already satisfied: h5py in /usr/local/lib/python3.6/dist-packages (from Keras->keras-drop-connect) (2.10.0)\n",
            "Requirement already satisfied: scipy>=0.14 in /usr/local/lib/python3.6/dist-packages (from Keras->keras-drop-connect) (1.4.1)\n",
            "Requirement already satisfied: six in /usr/local/lib/python3.6/dist-packages (from h5py->Keras->keras-drop-connect) (1.15.0)\n",
            "Building wheels for collected packages: keras-drop-connect\n",
            "  Building wheel for keras-drop-connect (setup.py) ... \u001b[?25l\u001b[?25hdone\n",
            "  Created wheel for keras-drop-connect: filename=keras_drop_connect-0.2.0-cp36-none-any.whl size=4779 sha256=d8127adf813b32729e1b076c17a9466abb97cf183a2725e12fff49616c87ce3f\n",
            "  Stored in directory: /root/.cache/pip/wheels/48/fc/0c/47924c703a077a6c6cb9efbe867a5a99c839d40c700e9d716d\n",
            "Successfully built keras-drop-connect\n",
            "Installing collected packages: keras-drop-connect\n",
            "Successfully installed keras-drop-connect-0.2.0\n"
          ],
          "name": "stdout"
        }
      ]
    },
    {
      "cell_type": "markdown",
      "metadata": {
        "id": "wLkym4j13lQD"
      },
      "source": [
        "**HoldOut Method**"
      ]
    },
    {
      "cell_type": "code",
      "metadata": {
        "id": "khypixsH20nw",
        "colab": {
          "base_uri": "https://localhost:8080/"
        },
        "outputId": "3363a6f5-009a-42a9-cb2f-57d4419eb9a6"
      },
      "source": [
        "X_train, X_test, y_train, y_test = train_test_split(X, y, test_size=0.33, random_state=42)\r\n",
        "!git clone https://github.com/andry9454/KerasDropconnect.git"
      ],
      "execution_count": 52,
      "outputs": [
        {
          "output_type": "stream",
          "text": [
            "Cloning into 'KerasDropconnect'...\n",
            "remote: Enumerating objects: 41, done.\u001b[K\n",
            "remote: Total 41 (delta 0), reused 0 (delta 0), pack-reused 41\u001b[K\n",
            "Unpacking objects: 100% (41/41), done.\n"
          ],
          "name": "stdout"
        }
      ]
    },
    {
      "cell_type": "code",
      "metadata": {
        "colab": {
          "base_uri": "https://localhost:8080/"
        },
        "id": "khEPrUBmt9H6",
        "outputId": "7e614ccf-6433-46ed-e333-54a594655657"
      },
      "source": [
        "cd /content/KerasDropconnect"
      ],
      "execution_count": 57,
      "outputs": [
        {
          "output_type": "stream",
          "text": [
            "/content/KerasDropconnect\n"
          ],
          "name": "stdout"
        }
      ]
    },
    {
      "cell_type": "code",
      "metadata": {
        "colab": {
          "base_uri": "https://localhost:8080/"
        },
        "id": "eIR97FjhuJ4I",
        "outputId": "efbc54fc-d311-46a2-db7e-bb2cd473215e"
      },
      "source": [
        "!pip install ."
      ],
      "execution_count": 58,
      "outputs": [
        {
          "output_type": "stream",
          "text": [
            "Processing /content/KerasDropconnect\n",
            "Requirement already satisfied: keras in /usr/local/lib/python3.6/dist-packages (from DDrop==0.0.8) (2.4.3)\n",
            "Requirement already satisfied: pyyaml in /usr/local/lib/python3.6/dist-packages (from keras->DDrop==0.0.8) (3.13)\n",
            "Requirement already satisfied: scipy>=0.14 in /usr/local/lib/python3.6/dist-packages (from keras->DDrop==0.0.8) (1.4.1)\n",
            "Requirement already satisfied: h5py in /usr/local/lib/python3.6/dist-packages (from keras->DDrop==0.0.8) (2.10.0)\n",
            "Requirement already satisfied: numpy>=1.9.1 in /usr/local/lib/python3.6/dist-packages (from keras->DDrop==0.0.8) (1.18.5)\n",
            "Requirement already satisfied: six in /usr/local/lib/python3.6/dist-packages (from h5py->keras->DDrop==0.0.8) (1.15.0)\n",
            "Building wheels for collected packages: DDrop\n",
            "  Building wheel for DDrop (setup.py) ... \u001b[?25l\u001b[?25hdone\n",
            "  Created wheel for DDrop: filename=DDrop-0.0.8-cp36-none-any.whl size=2647 sha256=af903785ddf58d05310d2efb6d8f895036ce1aac03226bd591a78a4624d07bd7\n",
            "  Stored in directory: /tmp/pip-ephem-wheel-cache-yk8e_au8/wheels/bc/bc/5f/3091ec37325f95932c5a5ceda6c10025796a1089caff15e655\n",
            "Successfully built DDrop\n",
            "Installing collected packages: DDrop\n",
            "Successfully installed DDrop-0.0.8\n"
          ],
          "name": "stdout"
        }
      ]
    },
    {
      "cell_type": "markdown",
      "metadata": {
        "id": "WBKroFjG4nfQ"
      },
      "source": [
        "**Neural Network**\r\n"
      ]
    },
    {
      "cell_type": "code",
      "metadata": {
        "id": "T9U-SVQM2032"
      },
      "source": [
        "from keras.models import Sequential\r\n",
        "from keras.layers import Dense\r\n",
        "from keras.optimizers import SGD\r\n",
        "from keras.layers import Dense\r\n",
        "from keras.layers import Dropout\r\n",
        "from keras_drop_connect import DropConnect\r\n",
        "\r\n",
        "\r\n",
        "def neural_network_model(activation,optimizer):\r\n",
        "  model = Sequential()\r\n",
        "  model.add(Dense(100, input_dim=12, activation=activation))\r\n",
        "  model.add(Dense(100, activation=activation))\r\n",
        "  model.add(Dense(1, activation='sigmoid'))\r\n",
        "  model.compile(loss='binary_crossentropy', optimizer=optimizer, metrics=['accuracy'])\r\n",
        "  return model\r\n",
        "\r\n",
        "\r\n",
        "import matplotlib.pyplot as plt\r\n",
        "\r\n",
        "\r\n",
        "def neural_network_model_with_ten_layers(activation,optimizer):\r\n",
        "  model = Sequential()\r\n",
        "  model.add(Dense(100,activation=activation))\r\n",
        "  model.add(Dropout(0.2))\r\n",
        "  model.add(Dense(50,activation=activation))\r\n",
        "  model.add(Dropout(0.2))\r\n",
        "  model.add(Dense(50,activation=activation))\r\n",
        "  model.add(Dropout(0.2))\r\n",
        "  model.add(Dense(34,activation=activation))\r\n",
        "  model.add(Dropout(0.2))\r\n",
        "  model.add(Dense(33,activation=activation))\r\n",
        "  model.add(Dropout(0.2))\r\n",
        "  model.add(Dense(33,activation=activation))\r\n",
        "  model.add(Dropout(0.2))\r\n",
        "  model.add(Dense(33,activation=activation))\r\n",
        "  model.add(Dropout(0.2))\r\n",
        "  model.add(Dense(10,activation=activation))\r\n",
        "  model.add(Dropout(0.2))\r\n",
        "  model.add(Dense(10,activation=activation))\r\n",
        "  model.add(Dropout(0.2))\r\n",
        "  model.add(Dense(1, activation='sigmoid'))\r\n",
        "  model.compile(loss='binary_crossentropy', optimizer=optimizer, metrics=['accuracy'])\r\n",
        "  return model  \r\n",
        "\r\n",
        "\r\n",
        "\r\n",
        "\r\n",
        "\r\n",
        "\r\n",
        "def best_model_extended():\r\n",
        "  model = Sequential()\r\n",
        "  DropConnect(model.add(Dense(100, activation=activation), prob=0.5))\r\n",
        "  model.add(Dropout(0.2))\r\n",
        "  \r\n",
        "  DropConnect(model.add(Dense(50, activation=activation), prob=0.5))\r\n",
        "  model.add(Dropout(0.2))\r\n",
        "  \r\n",
        "  DropConnect(model.add(Dense(50, activation=activation), prob=0.5))\r\n",
        "  model.add(Dropout(0.2))\r\n",
        "  \r\n",
        "  DropConnect(model.add(Dense(34, activation='relu'), prob=0.5))\r\n",
        "  model.add(Dropout(0.2))\r\n",
        "  \r\n",
        "  DropConnect(model.add(Dense(33, activation='relu'), prob=0.5))\r\n",
        "  model.add(Dropout(0.2))\r\n",
        "  \r\n",
        "  DropConnect(model.add(Dense(33, activation='relu'), prob=0.5))\r\n",
        "  model.add(Dropout(0.2))\r\n",
        "  \r\n",
        "  DropConnect(model.add(Dense(33, activation='relu'), prob=0.5))\r\n",
        "  model.add(Dropout(0.2))\r\n",
        "  \r\n",
        "  DropConnect(model.add(Dense(10, activation='relu'), prob=0.5))\r\n",
        "  model.add(Dropout(0.2))\r\n",
        "  \r\n",
        "  DropConnect(model.add(Dense(10, activation='relu'), prob=0.5))\r\n",
        "  model.add(Dropout(0.2))\r\n",
        "  \r\n",
        "  model.add(Dense(1, activation='sigmoid'))\r\n",
        "  model.compile(loss='binary_crossentropy', optimizer=optimizer, metrics=['accuracy'])\r\n",
        "  \r\n",
        "  return model \r\n",
        "\r\n",
        "\r\n",
        "\r\n",
        "\r\n",
        "\r\n",
        "def loss_and_accuracy_graph(history):\r\n",
        "\r\n",
        "  plt.plot(history.history['accuracy'])\r\n",
        "  plt.plot(history.history['val_accuracy'])\r\n",
        "  plt.title('model accuracy')\r\n",
        "  plt.ylabel('accuracy')\r\n",
        "  plt.xlabel('epoch')\r\n",
        "  plt.legend(['train', 'test'], loc='upper left')\r\n",
        "  plt.show()\r\n",
        "  # summarize history for loss\r\n",
        "  plt.plot(history.history['loss'])\r\n",
        "  plt.plot(history.history['val_loss'])\r\n",
        "  plt.title('model loss')\r\n",
        "  plt.ylabel('loss')\r\n",
        "  plt.xlabel('epoch')\r\n",
        "  plt.legend(['train', 'test'], loc='upper left')\r\n",
        "  plt.show()\r\n",
        "  return plt.show()\r\n",
        "\r\n",
        "\r\n",
        "\r\n",
        "\r\n",
        "\r\n",
        "  "
      ],
      "execution_count": 61,
      "outputs": []
    },
    {
      "cell_type": "markdown",
      "metadata": {
        "id": "r-0MtIEghCw6"
      },
      "source": [
        "**PART 1**\r\n",
        "\r\n",
        "Run a series of two-layer hidden layer models with 100 hidden variables per layer with a final sigmoid activation function predicting CODISNDISeligibleProfile with a Cross-Entropy Loss but varying each of the following (3X3 = 9 models)"
      ]
    },
    {
      "cell_type": "markdown",
      "metadata": {
        "id": "Litvr4yoVabq"
      },
      "source": [
        "**Linear + Adam**"
      ]
    },
    {
      "cell_type": "code",
      "metadata": {
        "id": "HNs88189VIFg"
      },
      "source": [
        "linear_activation='linear'\r\n",
        "relu_activation='relu'\r\n",
        "sigmoid_activation='sigmoid'\r\n",
        "\r\n",
        "adam_optimizer='adam'\r\n",
        "sgd_optimizer = SGD(lr=0.01, momentum=0.9)\r\n"
      ],
      "execution_count": 24,
      "outputs": []
    },
    {
      "cell_type": "code",
      "metadata": {
        "id": "ltpZLPLI7fgZ"
      },
      "source": [
        "model=neural_network_model(linear_activation, adam_optimizer)\r\n",
        "history=model.fit(X_train,y_train,validation_data=(X_test,y_test),epochs=50)"
      ],
      "execution_count": null,
      "outputs": []
    },
    {
      "cell_type": "code",
      "metadata": {
        "colab": {
          "base_uri": "https://localhost:8080/",
          "height": 573
        },
        "id": "zWmJuRKVWMO1",
        "outputId": "038f7b29-e5df-4f7c-e20e-bac8c5e8f9a7"
      },
      "source": [
        "loss_and_accuracy_graph(history)"
      ],
      "execution_count": 26,
      "outputs": [
        {
          "output_type": "display_data",
          "data": {
            "image/png": "[encoded data removed]",
            "text/plain": [
              "<Figure size 432x288 with 1 Axes>"
            ]
          },
          "metadata": {
            "tags": [],
            "needs_background": "light"
          }
        },
        {
          "output_type": "display_data",
          "data": {
            "image/png": "[encoded data removed]",
            "text/plain": [
              "<Figure size 432x288 with 1 Axes>"
            ]
          },
          "metadata": {
            "tags": [],
            "needs_background": "light"
          }
        }
      ]
    },
    {
      "cell_type": "markdown",
      "metadata": {
        "id": "ypoXUgVSWMjE"
      },
      "source": [
        "**Linear + Sgd (momentum)**"
      ]
    },
    {
      "cell_type": "code",
      "metadata": {
        "id": "KgWs8xB321Hz"
      },
      "source": [
        "model=neural_network_model(linear_activation,sgd_optimizer)\r\n",
        "history = model.fit(X_train,y_train,validation_data=(X_test,y_test),epochs=50)"
      ],
      "execution_count": null,
      "outputs": []
    },
    {
      "cell_type": "code",
      "metadata": {
        "id": "izZkNH8V21X7",
        "colab": {
          "base_uri": "https://localhost:8080/",
          "height": 573
        },
        "outputId": "92a0b551-51bb-4f7d-da88-e03625123cf6"
      },
      "source": [
        "loss_and_accuracy_graph(history)"
      ],
      "execution_count": 28,
      "outputs": [
        {
          "output_type": "display_data",
          "data": {
            "image/png": "[encoded data removed]",
            "text/plain": [
              "<Figure size 432x288 with 1 Axes>"
            ]
          },
          "metadata": {
            "tags": [],
            "needs_background": "light"
          }
        },
        {
          "output_type": "display_data",
          "data": {
            "image/png": "[encoded data removed]",
            "text/plain": [
              "<Figure size 432x288 with 1 Axes>"
            ]
          },
          "metadata": {
            "tags": [],
            "needs_background": "light"
          }
        }
      ]
    },
    {
      "cell_type": "markdown",
      "metadata": {
        "id": "1KYCd0BkW2Xd"
      },
      "source": [
        "**ReLu + Adam**\r\n"
      ]
    },
    {
      "cell_type": "code",
      "metadata": {
        "id": "4bavQaPH21mX"
      },
      "source": [
        "model=neural_network_model(relu_activation, adam_optimizer)\r\n",
        "history = model.fit(X_train,y_train,validation_data=(X_test,y_test),epochs=50)"
      ],
      "execution_count": null,
      "outputs": []
    },
    {
      "cell_type": "code",
      "metadata": {
        "id": "6yCeUzzY213P",
        "colab": {
          "base_uri": "https://localhost:8080/",
          "height": 573
        },
        "outputId": "317c78ad-389a-4cb7-b11f-887d4a8a4bc3"
      },
      "source": [
        "loss_and_accuracy_graph(history)"
      ],
      "execution_count": 30,
      "outputs": [
        {
          "output_type": "display_data",
          "data": {
            "image/png": "[encoded data removed]",
            "text/plain": [
              "<Figure size 432x288 with 1 Axes>"
            ]
          },
          "metadata": {
            "tags": [],
            "needs_background": "light"
          }
        },
        {
          "output_type": "display_data",
          "data": {
            "image/png": "[encoded data removed]",
            "text/plain": [
              "<Figure size 432x288 with 1 Axes>"
            ]
          },
          "metadata": {
            "tags": [],
            "needs_background": "light"
          }
        }
      ]
    },
    {
      "cell_type": "markdown",
      "metadata": {
        "id": "ktaogHimZacs"
      },
      "source": [
        "**Relu + Momentum**"
      ]
    },
    {
      "cell_type": "code",
      "metadata": {
        "id": "FtyLBazgZZnD"
      },
      "source": [
        "model=neural_network_model(relu_activation,sgd_optimizer)\r\n",
        "history = model.fit(X_train,y_train,validation_data=(X_test,y_test),epochs=50)"
      ],
      "execution_count": null,
      "outputs": []
    },
    {
      "cell_type": "code",
      "metadata": {
        "id": "Cpa9XNSj22D3",
        "colab": {
          "base_uri": "https://localhost:8080/",
          "height": 573
        },
        "outputId": "39eb3aee-7fba-45c2-94f2-51512e5ce0bf"
      },
      "source": [
        "loss_and_accuracy_graph(history)"
      ],
      "execution_count": 32,
      "outputs": [
        {
          "output_type": "display_data",
          "data": {
            "image/png": "[encoded data removed]",
            "text/plain": [
              "<Figure size 432x288 with 1 Axes>"
            ]
          },
          "metadata": {
            "tags": [],
            "needs_background": "light"
          }
        },
        {
          "output_type": "display_data",
          "data": {
            "image/png": "[encoded data removed]",
            "text/plain": [
              "<Figure size 432x288 with 1 Axes>"
            ]
          },
          "metadata": {
            "tags": [],
            "needs_background": "light"
          }
        }
      ]
    },
    {
      "cell_type": "markdown",
      "metadata": {
        "id": "Bxoe9HkiZosu"
      },
      "source": [
        "**Sigmoid + Adam**"
      ]
    },
    {
      "cell_type": "code",
      "metadata": {
        "id": "bp4XcTNM22fa"
      },
      "source": [
        "model=neural_network_model(sigmoid_activation, adam_optimizer)\r\n",
        "history=model.fit(X_train,y_train,validation_data=(X_test,y_test),epochs=50)"
      ],
      "execution_count": null,
      "outputs": []
    },
    {
      "cell_type": "code",
      "metadata": {
        "colab": {
          "base_uri": "https://localhost:8080/",
          "height": 573
        },
        "id": "kgIeYElbZui3",
        "outputId": "716c30f9-6334-4255-d0f1-a3493f1c72c0"
      },
      "source": [
        "loss_and_accuracy_graph(history)"
      ],
      "execution_count": 34,
      "outputs": [
        {
          "output_type": "display_data",
          "data": {
            "image/png": "[encoded data removed]",
            "text/plain": [
              "<Figure size 432x288 with 1 Axes>"
            ]
          },
          "metadata": {
            "tags": [],
            "needs_background": "light"
          }
        },
        {
          "output_type": "display_data",
          "data": {
            "image/png": "[encoded data removed]",
            "text/plain": [
              "<Figure size 432x288 with 1 Axes>"
            ]
          },
          "metadata": {
            "tags": [],
            "needs_background": "light"
          }
        }
      ]
    },
    {
      "cell_type": "markdown",
      "metadata": {
        "id": "yfBM3eujZ0-J"
      },
      "source": [
        "**Sigmoid + Momentum**"
      ]
    },
    {
      "cell_type": "code",
      "metadata": {
        "id": "cfiju5gdZ0RQ"
      },
      "source": [
        "model=neural_network_model(sigmoid_activation,sgd_optimizer)\r\n",
        "history =model.fit(X_train,y_train,validation_data=(X_test,y_test),epochs=50)"
      ],
      "execution_count": null,
      "outputs": []
    },
    {
      "cell_type": "code",
      "metadata": {
        "colab": {
          "base_uri": "https://localhost:8080/",
          "height": 573
        },
        "id": "K0zOXoEfZu1m",
        "outputId": "4724c109-ff8c-4218-a624-70c714a84d3a"
      },
      "source": [
        "loss_and_accuracy_graph(history)"
      ],
      "execution_count": 36,
      "outputs": [
        {
          "output_type": "display_data",
          "data": {
            "image/png": "[encoded data removed]",
            "text/plain": [
              "<Figure size 432x288 with 1 Axes>"
            ]
          },
          "metadata": {
            "tags": [],
            "needs_background": "light"
          }
        },
        {
          "output_type": "display_data",
          "data": {
            "image/png": "[encoded data removed]",
            "text/plain": [
              "<Figure size 432x288 with 1 Axes>"
            ]
          },
          "metadata": {
            "tags": [],
            "needs_background": "light"
          }
        }
      ]
    },
    {
      "cell_type": "markdown",
      "metadata": {
        "id": "KWTWST1hhHjM"
      },
      "source": [
        "**Part 2**\r\n",
        "\r\n",
        "Pick the BEST model based on the lowest Cross-Entropy Loss. [My prediction is that it will be ReLU, ADAM], then re-run, but varying the following (10+10 = 20 models)"
      ]
    },
    {
      "cell_type": "markdown",
      "metadata": {
        "id": "YUAki4uGhrDc"
      },
      "source": [
        "**Linear + Adam**"
      ]
    },
    {
      "cell_type": "code",
      "metadata": {
        "id": "vgEDvJN1ZvH5"
      },
      "source": [
        "model=neural_network_model_with_ten_layers(linear_activation, adam_optimizer)\r\n",
        "history=model.fit(X_train,y_train,validation_data=(X_test,y_test),epochs=50)"
      ],
      "execution_count": null,
      "outputs": []
    },
    {
      "cell_type": "code",
      "metadata": {
        "colab": {
          "base_uri": "https://localhost:8080/",
          "height": 573
        },
        "id": "ONCD9gQjg-a8",
        "outputId": "0a6d6f2b-09c6-4f0f-cc39-113be4638b6c"
      },
      "source": [
        "loss_and_accuracy_graph(history)"
      ],
      "execution_count": 38,
      "outputs": [
        {
          "output_type": "display_data",
          "data": {
            "image/png": "[encoded data removed]",
            "text/plain": [
              "<Figure size 432x288 with 1 Axes>"
            ]
          },
          "metadata": {
            "tags": [],
            "needs_background": "light"
          }
        },
        {
          "output_type": "display_data",
          "data": {
            "image/png": "[encoded data removed]",
            "text/plain": [
              "<Figure size 432x288 with 1 Axes>"
            ]
          },
          "metadata": {
            "tags": [],
            "needs_background": "light"
          }
        }
      ]
    },
    {
      "cell_type": "markdown",
      "metadata": {
        "id": "fUxI91Rti3Ww"
      },
      "source": [
        "**Linear + Momentum**"
      ]
    },
    {
      "cell_type": "code",
      "metadata": {
        "id": "rwSrcjEWg-p2"
      },
      "source": [
        "model=neural_network_model_with_ten_layers(linear_activation, sgd_optimizer)\r\n",
        "history=model.fit(X_train,y_train,validation_data=(X_test,y_test),epochs=50)"
      ],
      "execution_count": null,
      "outputs": []
    },
    {
      "cell_type": "code",
      "metadata": {
        "colab": {
          "base_uri": "https://localhost:8080/",
          "height": 573
        },
        "id": "ZOvmtUj8g-4D",
        "outputId": "b446b35c-69b4-459a-c379-a1efeb946316"
      },
      "source": [
        "loss_and_accuracy_graph(history)"
      ],
      "execution_count": 40,
      "outputs": [
        {
          "output_type": "display_data",
          "data": {
            "image/png": "[encoded data removed]",
            "text/plain": [
              "<Figure size 432x288 with 1 Axes>"
            ]
          },
          "metadata": {
            "tags": [],
            "needs_background": "light"
          }
        },
        {
          "output_type": "display_data",
          "data": {
            "image/png": "[encoded data removed]",
            "text/plain": [
              "<Figure size 432x288 with 1 Axes>"
            ]
          },
          "metadata": {
            "tags": [],
            "needs_background": "light"
          }
        }
      ]
    },
    {
      "cell_type": "markdown",
      "metadata": {
        "id": "gmb3HFThja3Z"
      },
      "source": [
        "**RelU + Adam**"
      ]
    },
    {
      "cell_type": "code",
      "metadata": {
        "id": "QhwDAy3Pg_Gb"
      },
      "source": [
        "model=neural_network_model_with_ten_layers(relu_activation, adam_optimizer)\r\n",
        "history=model.fit(X_train,y_train,validation_data=(X_test,y_test),epochs=50)"
      ],
      "execution_count": null,
      "outputs": []
    },
    {
      "cell_type": "code",
      "metadata": {
        "colab": {
          "base_uri": "https://localhost:8080/",
          "height": 573
        },
        "id": "X-QaGIhRg_UU",
        "outputId": "a018b33f-5087-4960-9440-398cca6d607b"
      },
      "source": [
        "loss_and_accuracy_graph(history)"
      ],
      "execution_count": 42,
      "outputs": [
        {
          "output_type": "display_data",
          "data": {
            "image/png": "[encoded data removed]",
            "text/plain": [
              "<Figure size 432x288 with 1 Axes>"
            ]
          },
          "metadata": {
            "tags": [],
            "needs_background": "light"
          }
        },
        {
          "output_type": "display_data",
          "data": {
            "image/png": "[encoded data removed]",
            "text/plain": [
              "<Figure size 432x288 with 1 Axes>"
            ]
          },
          "metadata": {
            "tags": [],
            "needs_background": "light"
          }
        }
      ]
    },
    {
      "cell_type": "markdown",
      "metadata": {
        "id": "z-_tbZpxjkPE"
      },
      "source": [
        "**RelU + Momentum**"
      ]
    },
    {
      "cell_type": "code",
      "metadata": {
        "id": "KW__Hz7Lg_kL"
      },
      "source": [
        "model=neural_network_model_with_ten_layers(relu_activation,sgd_optimizer)\r\n",
        "history=model.fit(X_train,y_train,validation_data=(X_test,y_test),epochs=50)"
      ],
      "execution_count": null,
      "outputs": []
    },
    {
      "cell_type": "code",
      "metadata": {
        "colab": {
          "base_uri": "https://localhost:8080/",
          "height": 573
        },
        "id": "v0DDJ5mog_0W",
        "outputId": "427fd19c-c16b-4f3e-c2fa-dd73aa51fc26"
      },
      "source": [
        "loss_and_accuracy_graph(history)"
      ],
      "execution_count": 44,
      "outputs": [
        {
          "output_type": "display_data",
          "data": {
            "image/png": "[encoded data removed]",
            "text/plain": [
              "<Figure size 432x288 with 1 Axes>"
            ]
          },
          "metadata": {
            "tags": [],
            "needs_background": "light"
          }
        },
        {
          "output_type": "display_data",
          "data": {
            "image/png": "[encoded data removed]",
            "text/plain": [
              "<Figure size 432x288 with 1 Axes>"
            ]
          },
          "metadata": {
            "tags": [],
            "needs_background": "light"
          }
        }
      ]
    },
    {
      "cell_type": "markdown",
      "metadata": {
        "id": "TMhycQm4j4uC"
      },
      "source": [
        "**Sigmoid + Adam**"
      ]
    },
    {
      "cell_type": "code",
      "metadata": {
        "id": "RB1q10PRjr94"
      },
      "source": [
        "model=neural_network_model_with_ten_layers(sigmoid_activation,adam_optimizer)\r\n",
        "history=model.fit(X_train,y_train,validation_data=(X_test,y_test),epochs=50)"
      ],
      "execution_count": null,
      "outputs": []
    },
    {
      "cell_type": "code",
      "metadata": {
        "colab": {
          "base_uri": "https://localhost:8080/",
          "height": 573
        },
        "id": "hGY6ZvWMjsR-",
        "outputId": "0865dafb-9496-48df-b8b4-7998fe859b2c"
      },
      "source": [
        "loss_and_accuracy_graph(history)"
      ],
      "execution_count": 46,
      "outputs": [
        {
          "output_type": "display_data",
          "data": {
            "image/png": "[encoded data removed]",
            "text/plain": [
              "<Figure size 432x288 with 1 Axes>"
            ]
          },
          "metadata": {
            "tags": [],
            "needs_background": "light"
          }
        },
        {
          "output_type": "display_data",
          "data": {
            "image/png": "[encoded data removed]",
            "text/plain": [
              "<Figure size 432x288 with 1 Axes>"
            ]
          },
          "metadata": {
            "tags": [],
            "needs_background": "light"
          }
        }
      ]
    },
    {
      "cell_type": "code",
      "metadata": {
        "id": "Si244Z18jsxh"
      },
      "source": [
        "model=neural_network_model_with_ten_layers(sigmoid_activation,sgd_optimizer)\r\n",
        "history=model.fit(X_train,y_train,validation_data=(X_test,y_test),epochs=50)"
      ],
      "execution_count": null,
      "outputs": []
    },
    {
      "cell_type": "code",
      "metadata": {
        "colab": {
          "base_uri": "https://localhost:8080/",
          "height": 573
        },
        "id": "TGmgekr1hAA5",
        "outputId": "bfef5002-46c2-4868-f9a7-0e75c98bce9f"
      },
      "source": [
        "loss_and_accuracy_graph(history)"
      ],
      "execution_count": 48,
      "outputs": [
        {
          "output_type": "display_data",
          "data": {
            "image/png": "[encoded data removed]",
            "text/plain": [
              "<Figure size 432x288 with 1 Axes>"
            ]
          },
          "metadata": {
            "tags": [],
            "needs_background": "light"
          }
        },
        {
          "output_type": "display_data",
          "data": {
            "image/png": "[encoded data removed]",
            "text/plain": [
              "<Figure size 432x288 with 1 Axes>"
            ]
          },
          "metadata": {
            "tags": [],
            "needs_background": "light"
          }
        }
      ]
    },
    {
      "cell_type": "markdown",
      "metadata": {
        "id": "ZrtfBAqvms5G"
      },
      "source": [
        "**Part 3**\r\n",
        "\r\n",
        "Pick the BEST model based on lowest Cross-Entropy Loss, then rerun with those layers, but varying the following (4 * 3 = 12 models"
      ]
    },
    {
      "cell_type": "code",
      "metadata": {
        "id": "30Zfbs1EmqBZ"
      },
      "source": [
        "# Relu + Adam"
      ],
      "execution_count": 48,
      "outputs": []
    },
    {
      "cell_type": "code",
      "metadata": {
        "id": "N1HcZv_Nmq8p"
      },
      "source": [
        ""
      ],
      "execution_count": 48,
      "outputs": []
    },
    {
      "cell_type": "code",
      "metadata": {
        "id": "50lal8DmmrLe"
      },
      "source": [
        ""
      ],
      "execution_count": 48,
      "outputs": []
    },
    {
      "cell_type": "code",
      "metadata": {
        "id": "9e8QxuFLmrdx"
      },
      "source": [
        ""
      ],
      "execution_count": 48,
      "outputs": []
    },
    {
      "cell_type": "code",
      "metadata": {
        "id": "XG21-G0-mrqw"
      },
      "source": [
        ""
      ],
      "execution_count": 48,
      "outputs": []
    },
    {
      "cell_type": "markdown",
      "metadata": {
        "id": "w67jYXJ__rBo"
      },
      "source": [
        "# **Add something \"fancy\"**\n",
        "1. Attention-based transformer (not sure how to do this...just see if you can do it following the specifications for the homework)."
      ]
    },
    {
      "cell_type": "markdown",
      "metadata": {
        "id": "0ixXxhMPGXPn"
      },
      "source": [
        "# **Visualization**\n",
        "1. Plot bar charts for loss functions associated with each categorical choice above (e.g., DropOut vs. DropConnect vs. ShakeOut vs. Linear vs. ReLU vs. Sigmoid, etc.)\n",
        "2. Plot line charts for loss functions associated with ordinal choice above (e.g., layers 1-10 of constant size per layer; and 1-10 of constant size across all layers; 3 levels of early stopping)"
      ]
    }
  ]
}